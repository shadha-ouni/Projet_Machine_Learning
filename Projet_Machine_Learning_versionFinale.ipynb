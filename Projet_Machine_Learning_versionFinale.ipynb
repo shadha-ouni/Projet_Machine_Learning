{
  "cells": [
    {
      "cell_type": "markdown",
      "metadata": {
        "id": "OMTeEUX5pPM-"
      },
      "source": [
        "# Projet Machine Learning\n"
      ]
    },
    {
      "cell_type": "markdown",
      "metadata": {
        "id": "kMsbB8J1pPNE"
      },
      "source": [
        "### Le probléme : \n",
        "  \n",
        " \n",
        " "
      ]
    },
    {
      "cell_type": "markdown",
      "metadata": {
        "id": "ZzWvlOg1pPNE"
      },
      "source": [
        "Parmi les 25 000 observations au total, 5 529 observations\n",
        "(22,12 %) sont les titulaires de la carte avec défaut de paiement. Cette\n",
        "la recherche a utilisé une variable binaire - paiement par défaut\n",
        "(Oui = 1, Non = 0),"
      ]
    },
    {
      "cell_type": "markdown",
      "metadata": {
        "id": "-ifgc_b-pPNF"
      },
      "source": [
        "### La description des Variables : \n",
        " \n"
      ]
    },
    {
      "cell_type": "markdown",
      "metadata": {
        "id": "FZ6ZSUP9pPNF"
      },
      "source": [
        "X1 : Montant du crédit accordé (dollar NT) : il comprend\n",
        "à la fois le crédit à la consommation individuel et sa famille\n",
        "crédit (supplémentaire).\n",
        "\n",
        "X2 : Sexe (1 = homme ; 2 = femme).\n",
        "\n",
        "X3 : Éducation (1 = études supérieures ; 2 = université ;\n",
        "3 = lycée ; 4 = autres).\n",
        "\n",
        "X4 : Etat civil (1 = marié ; 2 = célibataire ; 3 = autres).\n",
        "\n",
        "X5 : Âge (année).\n",
        "\n",
        "X6–X11 : Historique des paiements passés. Nous avons suivi le passé\n",
        "relevés de mensualité (d'avril à septembre,2005) comme suit : X6 = l'état du remboursement en septembre 2005 ; X7 = le statut de remboursement en août 2005;...;X11 = l'état du remboursement en avril 2005.\n",
        "\n",
        "L'échelle de mesure de l'état de remboursement est :\n",
        "-1 = payer en bonne et due forme \n",
        " 1 = retard de paiement d'un mois ;\n",
        " 2 = retard de paiement de deux mois ; ... ; \n",
        " 8 = paiement retard de huit mois\n",
        " 9 = délai de paiement pour neuf mois et plus.\n",
        "\n",
        "X12–X17 : montant de la facture (dollar NT).\n",
        "\n",
        "X12 = montant du relevé de facture en septembre 2005 ;\n",
        "\n",
        "X13 = montant du relevé de facture en août 2005;...;X17 = montant du relevé de facture en avril 2005.\n",
        "\n",
        "X18–X23 : montant du paiement précédent (dollar NT).\n",
        "\n",
        "X18 = montant payé en septembre 2005 ; \n",
        "\n",
        "X19 = montant payé en août 2005...;\n",
        "\n",
        "X23 = montant payé en avril 2005\n",
        " "
      ]
    },
    {
      "cell_type": "code",
      "execution_count": null,
      "metadata": {
        "id": "XI-LxXDmpPNG"
      },
      "outputs": [],
      "source": [
        "# Importation des Bibliothéques \n",
        "import pandas as pd\n",
        "import numpy as np\n",
        "from pandas_profiling import ProfileReport\n",
        "import matplotlib.pyplot as plt\n",
        "from numpy import isnan\n",
        "from pandas import read_csv"
      ]
    },
    {
      "cell_type": "code",
      "execution_count": null,
      "metadata": {
        "id": "cSKLN75IpPNH"
      },
      "outputs": [],
      "source": [
        "# Importation du DataFrame \n",
        "df= pd.read_excel ('default of credit card clients.xls',skiprows=1)"
      ]
    },
    {
      "cell_type": "markdown",
      "metadata": {
        "id": "IlpDmVFOpPNH"
      },
      "source": [
        "##  Data understanding\n",
        "\n",
        "#### Déterminer précisément les données à analyser, à identifier la qualité des données disponibles. "
      ]
    },
    {
      "cell_type": "code",
      "execution_count": null,
      "metadata": {
        "id": "RDNj5Eo9pPNI",
        "outputId": "900458ac-7915-4680-d869-1e16c480b002"
      },
      "outputs": [
        {
          "name": "stdout",
          "output_type": "stream",
          "text": [
            "<class 'pandas.core.frame.DataFrame'>\n",
            "RangeIndex: 30000 entries, 0 to 29999\n",
            "Data columns (total 25 columns):\n",
            " #   Column                      Non-Null Count  Dtype\n",
            "---  ------                      --------------  -----\n",
            " 0   ID                          30000 non-null  int64\n",
            " 1   LIMIT_BAL                   30000 non-null  int64\n",
            " 2   SEX                         30000 non-null  int64\n",
            " 3   EDUCATION                   30000 non-null  int64\n",
            " 4   MARRIAGE                    30000 non-null  int64\n",
            " 5   AGE                         30000 non-null  int64\n",
            " 6   PAY_0                       30000 non-null  int64\n",
            " 7   PAY_2                       30000 non-null  int64\n",
            " 8   PAY_3                       30000 non-null  int64\n",
            " 9   PAY_4                       30000 non-null  int64\n",
            " 10  PAY_5                       30000 non-null  int64\n",
            " 11  PAY_6                       30000 non-null  int64\n",
            " 12  BILL_AMT1                   30000 non-null  int64\n",
            " 13  BILL_AMT2                   30000 non-null  int64\n",
            " 14  BILL_AMT3                   30000 non-null  int64\n",
            " 15  BILL_AMT4                   30000 non-null  int64\n",
            " 16  BILL_AMT5                   30000 non-null  int64\n",
            " 17  BILL_AMT6                   30000 non-null  int64\n",
            " 18  PAY_AMT1                    30000 non-null  int64\n",
            " 19  PAY_AMT2                    30000 non-null  int64\n",
            " 20  PAY_AMT3                    30000 non-null  int64\n",
            " 21  PAY_AMT4                    30000 non-null  int64\n",
            " 22  PAY_AMT5                    30000 non-null  int64\n",
            " 23  PAY_AMT6                    30000 non-null  int64\n",
            " 24  default payment next month  30000 non-null  int64\n",
            "dtypes: int64(25)\n",
            "memory usage: 5.7 MB\n"
          ]
        }
      ],
      "source": [
        "#Cette méthode retourne des informations sur une DataFrame \n",
        "#(dtypes d'index et de colonne, les valeurs non nulles et l'utilisation de la mémoire)\n",
        "df.info()"
      ]
    },
    {
      "cell_type": "code",
      "execution_count": null,
      "metadata": {
        "id": "5B9RQb_BpPNI",
        "outputId": "4e47e7a3-9201-459a-8b30-f3eee54a5b49"
      },
      "outputs": [
        {
          "data": {
            "text/plain": [
              "ID                            0\n",
              "LIMIT_BAL                     0\n",
              "SEX                           0\n",
              "EDUCATION                     0\n",
              "MARRIAGE                      0\n",
              "AGE                           0\n",
              "PAY_0                         0\n",
              "PAY_2                         0\n",
              "PAY_3                         0\n",
              "PAY_4                         0\n",
              "PAY_5                         0\n",
              "PAY_6                         0\n",
              "BILL_AMT1                     0\n",
              "BILL_AMT2                     0\n",
              "BILL_AMT3                     0\n",
              "BILL_AMT4                     0\n",
              "BILL_AMT5                     0\n",
              "BILL_AMT6                     0\n",
              "PAY_AMT1                      0\n",
              "PAY_AMT2                      0\n",
              "PAY_AMT3                      0\n",
              "PAY_AMT4                      0\n",
              "PAY_AMT5                      0\n",
              "PAY_AMT6                      0\n",
              "default payment next month    0\n",
              "dtype: int64"
            ]
          },
          "execution_count": 241,
          "metadata": {},
          "output_type": "execute_result"
        }
      ],
      "source": [
        "df.isnull().sum()"
      ]
    },
    {
      "cell_type": "code",
      "execution_count": null,
      "metadata": {
        "id": "Ihvdchh4pPNJ",
        "outputId": "c6dc622a-6367-45ef-d2be-f9f6540b754a"
      },
      "outputs": [
        {
          "data": {
            "text/plain": [
              "0"
            ]
          },
          "execution_count": 242,
          "metadata": {},
          "output_type": "execute_result"
        }
      ],
      "source": [
        "df.isnull().sum().sum()"
      ]
    },
    {
      "cell_type": "markdown",
      "metadata": {
        "id": "Mv5YoKzlpPNN"
      },
      "source": [
        "# Interprétation \n",
        "Notre DataFrame ne contient pas des valeurs nulles donc on peut continuer a l'étudier \n"
      ]
    },
    {
      "cell_type": "code",
      "execution_count": null,
      "metadata": {
        "id": "-t_EtjgbpPNN",
        "outputId": "088c8655-1fd9-4f88-c0bb-896f887004d8"
      },
      "outputs": [
        {
          "data": {
            "text/html": [
              "<div>\n",
              "<style scoped>\n",
              "    .dataframe tbody tr th:only-of-type {\n",
              "        vertical-align: middle;\n",
              "    }\n",
              "\n",
              "    .dataframe tbody tr th {\n",
              "        vertical-align: top;\n",
              "    }\n",
              "\n",
              "    .dataframe thead th {\n",
              "        text-align: right;\n",
              "    }\n",
              "</style>\n",
              "<table border=\"1\" class=\"dataframe\">\n",
              "  <thead>\n",
              "    <tr style=\"text-align: right;\">\n",
              "      <th></th>\n",
              "      <th>ID</th>\n",
              "      <th>LIMIT_BAL</th>\n",
              "      <th>SEX</th>\n",
              "      <th>EDUCATION</th>\n",
              "      <th>MARRIAGE</th>\n",
              "      <th>AGE</th>\n",
              "      <th>PAY_0</th>\n",
              "      <th>PAY_2</th>\n",
              "      <th>PAY_3</th>\n",
              "      <th>PAY_4</th>\n",
              "      <th>...</th>\n",
              "      <th>BILL_AMT4</th>\n",
              "      <th>BILL_AMT5</th>\n",
              "      <th>BILL_AMT6</th>\n",
              "      <th>PAY_AMT1</th>\n",
              "      <th>PAY_AMT2</th>\n",
              "      <th>PAY_AMT3</th>\n",
              "      <th>PAY_AMT4</th>\n",
              "      <th>PAY_AMT5</th>\n",
              "      <th>PAY_AMT6</th>\n",
              "      <th>default payment next month</th>\n",
              "    </tr>\n",
              "  </thead>\n",
              "  <tbody>\n",
              "    <tr>\n",
              "      <th>0</th>\n",
              "      <td>1</td>\n",
              "      <td>20000</td>\n",
              "      <td>2</td>\n",
              "      <td>2</td>\n",
              "      <td>1</td>\n",
              "      <td>24</td>\n",
              "      <td>2</td>\n",
              "      <td>2</td>\n",
              "      <td>-1</td>\n",
              "      <td>-1</td>\n",
              "      <td>...</td>\n",
              "      <td>0</td>\n",
              "      <td>0</td>\n",
              "      <td>0</td>\n",
              "      <td>0</td>\n",
              "      <td>689</td>\n",
              "      <td>0</td>\n",
              "      <td>0</td>\n",
              "      <td>0</td>\n",
              "      <td>0</td>\n",
              "      <td>1</td>\n",
              "    </tr>\n",
              "    <tr>\n",
              "      <th>1</th>\n",
              "      <td>2</td>\n",
              "      <td>120000</td>\n",
              "      <td>2</td>\n",
              "      <td>2</td>\n",
              "      <td>2</td>\n",
              "      <td>26</td>\n",
              "      <td>-1</td>\n",
              "      <td>2</td>\n",
              "      <td>0</td>\n",
              "      <td>0</td>\n",
              "      <td>...</td>\n",
              "      <td>3272</td>\n",
              "      <td>3455</td>\n",
              "      <td>3261</td>\n",
              "      <td>0</td>\n",
              "      <td>1000</td>\n",
              "      <td>1000</td>\n",
              "      <td>1000</td>\n",
              "      <td>0</td>\n",
              "      <td>2000</td>\n",
              "      <td>1</td>\n",
              "    </tr>\n",
              "    <tr>\n",
              "      <th>2</th>\n",
              "      <td>3</td>\n",
              "      <td>90000</td>\n",
              "      <td>2</td>\n",
              "      <td>2</td>\n",
              "      <td>2</td>\n",
              "      <td>34</td>\n",
              "      <td>0</td>\n",
              "      <td>0</td>\n",
              "      <td>0</td>\n",
              "      <td>0</td>\n",
              "      <td>...</td>\n",
              "      <td>14331</td>\n",
              "      <td>14948</td>\n",
              "      <td>15549</td>\n",
              "      <td>1518</td>\n",
              "      <td>1500</td>\n",
              "      <td>1000</td>\n",
              "      <td>1000</td>\n",
              "      <td>1000</td>\n",
              "      <td>5000</td>\n",
              "      <td>0</td>\n",
              "    </tr>\n",
              "    <tr>\n",
              "      <th>3</th>\n",
              "      <td>4</td>\n",
              "      <td>50000</td>\n",
              "      <td>2</td>\n",
              "      <td>2</td>\n",
              "      <td>1</td>\n",
              "      <td>37</td>\n",
              "      <td>0</td>\n",
              "      <td>0</td>\n",
              "      <td>0</td>\n",
              "      <td>0</td>\n",
              "      <td>...</td>\n",
              "      <td>28314</td>\n",
              "      <td>28959</td>\n",
              "      <td>29547</td>\n",
              "      <td>2000</td>\n",
              "      <td>2019</td>\n",
              "      <td>1200</td>\n",
              "      <td>1100</td>\n",
              "      <td>1069</td>\n",
              "      <td>1000</td>\n",
              "      <td>0</td>\n",
              "    </tr>\n",
              "    <tr>\n",
              "      <th>4</th>\n",
              "      <td>5</td>\n",
              "      <td>50000</td>\n",
              "      <td>1</td>\n",
              "      <td>2</td>\n",
              "      <td>1</td>\n",
              "      <td>57</td>\n",
              "      <td>-1</td>\n",
              "      <td>0</td>\n",
              "      <td>-1</td>\n",
              "      <td>0</td>\n",
              "      <td>...</td>\n",
              "      <td>20940</td>\n",
              "      <td>19146</td>\n",
              "      <td>19131</td>\n",
              "      <td>2000</td>\n",
              "      <td>36681</td>\n",
              "      <td>10000</td>\n",
              "      <td>9000</td>\n",
              "      <td>689</td>\n",
              "      <td>679</td>\n",
              "      <td>0</td>\n",
              "    </tr>\n",
              "  </tbody>\n",
              "</table>\n",
              "<p>5 rows × 25 columns</p>\n",
              "</div>"
            ],
            "text/plain": [
              "   ID  LIMIT_BAL  SEX  EDUCATION  MARRIAGE  AGE  PAY_0  PAY_2  PAY_3  PAY_4  \\\n",
              "0   1      20000    2          2         1   24      2      2     -1     -1   \n",
              "1   2     120000    2          2         2   26     -1      2      0      0   \n",
              "2   3      90000    2          2         2   34      0      0      0      0   \n",
              "3   4      50000    2          2         1   37      0      0      0      0   \n",
              "4   5      50000    1          2         1   57     -1      0     -1      0   \n",
              "\n",
              "   ...  BILL_AMT4  BILL_AMT5  BILL_AMT6  PAY_AMT1  PAY_AMT2  PAY_AMT3  \\\n",
              "0  ...          0          0          0         0       689         0   \n",
              "1  ...       3272       3455       3261         0      1000      1000   \n",
              "2  ...      14331      14948      15549      1518      1500      1000   \n",
              "3  ...      28314      28959      29547      2000      2019      1200   \n",
              "4  ...      20940      19146      19131      2000     36681     10000   \n",
              "\n",
              "   PAY_AMT4  PAY_AMT5  PAY_AMT6  default payment next month  \n",
              "0         0         0         0                           1  \n",
              "1      1000         0      2000                           1  \n",
              "2      1000      1000      5000                           0  \n",
              "3      1100      1069      1000                           0  \n",
              "4      9000       689       679                           0  \n",
              "\n",
              "[5 rows x 25 columns]"
            ]
          },
          "execution_count": 243,
          "metadata": {},
          "output_type": "execute_result"
        }
      ],
      "source": [
        "# afficher les premières lignes du jeu de données\n",
        "df.head()"
      ]
    },
    {
      "cell_type": "code",
      "execution_count": null,
      "metadata": {
        "id": "DRFqfCD8pPNN",
        "outputId": "88188669-055c-4cde-ebdf-434013194a1b"
      },
      "outputs": [
        {
          "data": {
            "text/html": [
              "<div>\n",
              "<style scoped>\n",
              "    .dataframe tbody tr th:only-of-type {\n",
              "        vertical-align: middle;\n",
              "    }\n",
              "\n",
              "    .dataframe tbody tr th {\n",
              "        vertical-align: top;\n",
              "    }\n",
              "\n",
              "    .dataframe thead th {\n",
              "        text-align: right;\n",
              "    }\n",
              "</style>\n",
              "<table border=\"1\" class=\"dataframe\">\n",
              "  <thead>\n",
              "    <tr style=\"text-align: right;\">\n",
              "      <th></th>\n",
              "      <th>ID</th>\n",
              "      <th>LIMIT_BAL</th>\n",
              "      <th>SEX</th>\n",
              "      <th>EDUCATION</th>\n",
              "      <th>MARRIAGE</th>\n",
              "      <th>AGE</th>\n",
              "      <th>PAY_0</th>\n",
              "      <th>PAY_2</th>\n",
              "      <th>PAY_3</th>\n",
              "      <th>PAY_4</th>\n",
              "      <th>...</th>\n",
              "      <th>BILL_AMT4</th>\n",
              "      <th>BILL_AMT5</th>\n",
              "      <th>BILL_AMT6</th>\n",
              "      <th>PAY_AMT1</th>\n",
              "      <th>PAY_AMT2</th>\n",
              "      <th>PAY_AMT3</th>\n",
              "      <th>PAY_AMT4</th>\n",
              "      <th>PAY_AMT5</th>\n",
              "      <th>PAY_AMT6</th>\n",
              "      <th>default payment next month</th>\n",
              "    </tr>\n",
              "  </thead>\n",
              "  <tbody>\n",
              "    <tr>\n",
              "      <th>0</th>\n",
              "      <td>False</td>\n",
              "      <td>False</td>\n",
              "      <td>False</td>\n",
              "      <td>False</td>\n",
              "      <td>False</td>\n",
              "      <td>False</td>\n",
              "      <td>False</td>\n",
              "      <td>False</td>\n",
              "      <td>False</td>\n",
              "      <td>False</td>\n",
              "      <td>...</td>\n",
              "      <td>False</td>\n",
              "      <td>False</td>\n",
              "      <td>False</td>\n",
              "      <td>False</td>\n",
              "      <td>False</td>\n",
              "      <td>False</td>\n",
              "      <td>False</td>\n",
              "      <td>False</td>\n",
              "      <td>False</td>\n",
              "      <td>False</td>\n",
              "    </tr>\n",
              "    <tr>\n",
              "      <th>1</th>\n",
              "      <td>False</td>\n",
              "      <td>False</td>\n",
              "      <td>False</td>\n",
              "      <td>False</td>\n",
              "      <td>False</td>\n",
              "      <td>False</td>\n",
              "      <td>False</td>\n",
              "      <td>False</td>\n",
              "      <td>False</td>\n",
              "      <td>False</td>\n",
              "      <td>...</td>\n",
              "      <td>False</td>\n",
              "      <td>False</td>\n",
              "      <td>False</td>\n",
              "      <td>False</td>\n",
              "      <td>False</td>\n",
              "      <td>False</td>\n",
              "      <td>False</td>\n",
              "      <td>False</td>\n",
              "      <td>False</td>\n",
              "      <td>False</td>\n",
              "    </tr>\n",
              "    <tr>\n",
              "      <th>2</th>\n",
              "      <td>False</td>\n",
              "      <td>False</td>\n",
              "      <td>False</td>\n",
              "      <td>False</td>\n",
              "      <td>False</td>\n",
              "      <td>False</td>\n",
              "      <td>False</td>\n",
              "      <td>False</td>\n",
              "      <td>False</td>\n",
              "      <td>False</td>\n",
              "      <td>...</td>\n",
              "      <td>False</td>\n",
              "      <td>False</td>\n",
              "      <td>False</td>\n",
              "      <td>False</td>\n",
              "      <td>False</td>\n",
              "      <td>False</td>\n",
              "      <td>False</td>\n",
              "      <td>False</td>\n",
              "      <td>False</td>\n",
              "      <td>False</td>\n",
              "    </tr>\n",
              "    <tr>\n",
              "      <th>3</th>\n",
              "      <td>False</td>\n",
              "      <td>False</td>\n",
              "      <td>False</td>\n",
              "      <td>False</td>\n",
              "      <td>False</td>\n",
              "      <td>False</td>\n",
              "      <td>False</td>\n",
              "      <td>False</td>\n",
              "      <td>False</td>\n",
              "      <td>False</td>\n",
              "      <td>...</td>\n",
              "      <td>False</td>\n",
              "      <td>False</td>\n",
              "      <td>False</td>\n",
              "      <td>False</td>\n",
              "      <td>False</td>\n",
              "      <td>False</td>\n",
              "      <td>False</td>\n",
              "      <td>False</td>\n",
              "      <td>False</td>\n",
              "      <td>False</td>\n",
              "    </tr>\n",
              "    <tr>\n",
              "      <th>4</th>\n",
              "      <td>False</td>\n",
              "      <td>False</td>\n",
              "      <td>False</td>\n",
              "      <td>False</td>\n",
              "      <td>False</td>\n",
              "      <td>False</td>\n",
              "      <td>False</td>\n",
              "      <td>False</td>\n",
              "      <td>False</td>\n",
              "      <td>False</td>\n",
              "      <td>...</td>\n",
              "      <td>False</td>\n",
              "      <td>False</td>\n",
              "      <td>False</td>\n",
              "      <td>False</td>\n",
              "      <td>False</td>\n",
              "      <td>False</td>\n",
              "      <td>False</td>\n",
              "      <td>False</td>\n",
              "      <td>False</td>\n",
              "      <td>False</td>\n",
              "    </tr>\n",
              "    <tr>\n",
              "      <th>...</th>\n",
              "      <td>...</td>\n",
              "      <td>...</td>\n",
              "      <td>...</td>\n",
              "      <td>...</td>\n",
              "      <td>...</td>\n",
              "      <td>...</td>\n",
              "      <td>...</td>\n",
              "      <td>...</td>\n",
              "      <td>...</td>\n",
              "      <td>...</td>\n",
              "      <td>...</td>\n",
              "      <td>...</td>\n",
              "      <td>...</td>\n",
              "      <td>...</td>\n",
              "      <td>...</td>\n",
              "      <td>...</td>\n",
              "      <td>...</td>\n",
              "      <td>...</td>\n",
              "      <td>...</td>\n",
              "      <td>...</td>\n",
              "      <td>...</td>\n",
              "    </tr>\n",
              "    <tr>\n",
              "      <th>29995</th>\n",
              "      <td>False</td>\n",
              "      <td>False</td>\n",
              "      <td>False</td>\n",
              "      <td>False</td>\n",
              "      <td>False</td>\n",
              "      <td>False</td>\n",
              "      <td>False</td>\n",
              "      <td>False</td>\n",
              "      <td>False</td>\n",
              "      <td>False</td>\n",
              "      <td>...</td>\n",
              "      <td>False</td>\n",
              "      <td>False</td>\n",
              "      <td>False</td>\n",
              "      <td>False</td>\n",
              "      <td>False</td>\n",
              "      <td>False</td>\n",
              "      <td>False</td>\n",
              "      <td>False</td>\n",
              "      <td>False</td>\n",
              "      <td>False</td>\n",
              "    </tr>\n",
              "    <tr>\n",
              "      <th>29996</th>\n",
              "      <td>False</td>\n",
              "      <td>False</td>\n",
              "      <td>False</td>\n",
              "      <td>False</td>\n",
              "      <td>False</td>\n",
              "      <td>False</td>\n",
              "      <td>False</td>\n",
              "      <td>False</td>\n",
              "      <td>False</td>\n",
              "      <td>False</td>\n",
              "      <td>...</td>\n",
              "      <td>False</td>\n",
              "      <td>False</td>\n",
              "      <td>False</td>\n",
              "      <td>False</td>\n",
              "      <td>False</td>\n",
              "      <td>False</td>\n",
              "      <td>False</td>\n",
              "      <td>False</td>\n",
              "      <td>False</td>\n",
              "      <td>False</td>\n",
              "    </tr>\n",
              "    <tr>\n",
              "      <th>29997</th>\n",
              "      <td>False</td>\n",
              "      <td>False</td>\n",
              "      <td>False</td>\n",
              "      <td>False</td>\n",
              "      <td>False</td>\n",
              "      <td>False</td>\n",
              "      <td>False</td>\n",
              "      <td>False</td>\n",
              "      <td>False</td>\n",
              "      <td>False</td>\n",
              "      <td>...</td>\n",
              "      <td>False</td>\n",
              "      <td>False</td>\n",
              "      <td>False</td>\n",
              "      <td>False</td>\n",
              "      <td>False</td>\n",
              "      <td>False</td>\n",
              "      <td>False</td>\n",
              "      <td>False</td>\n",
              "      <td>False</td>\n",
              "      <td>False</td>\n",
              "    </tr>\n",
              "    <tr>\n",
              "      <th>29998</th>\n",
              "      <td>False</td>\n",
              "      <td>False</td>\n",
              "      <td>False</td>\n",
              "      <td>False</td>\n",
              "      <td>False</td>\n",
              "      <td>False</td>\n",
              "      <td>False</td>\n",
              "      <td>False</td>\n",
              "      <td>False</td>\n",
              "      <td>False</td>\n",
              "      <td>...</td>\n",
              "      <td>False</td>\n",
              "      <td>False</td>\n",
              "      <td>False</td>\n",
              "      <td>False</td>\n",
              "      <td>False</td>\n",
              "      <td>False</td>\n",
              "      <td>False</td>\n",
              "      <td>False</td>\n",
              "      <td>False</td>\n",
              "      <td>False</td>\n",
              "    </tr>\n",
              "    <tr>\n",
              "      <th>29999</th>\n",
              "      <td>False</td>\n",
              "      <td>False</td>\n",
              "      <td>False</td>\n",
              "      <td>False</td>\n",
              "      <td>False</td>\n",
              "      <td>False</td>\n",
              "      <td>False</td>\n",
              "      <td>False</td>\n",
              "      <td>False</td>\n",
              "      <td>False</td>\n",
              "      <td>...</td>\n",
              "      <td>False</td>\n",
              "      <td>False</td>\n",
              "      <td>False</td>\n",
              "      <td>False</td>\n",
              "      <td>False</td>\n",
              "      <td>False</td>\n",
              "      <td>False</td>\n",
              "      <td>False</td>\n",
              "      <td>False</td>\n",
              "      <td>False</td>\n",
              "    </tr>\n",
              "  </tbody>\n",
              "</table>\n",
              "<p>30000 rows × 25 columns</p>\n",
              "</div>"
            ],
            "text/plain": [
              "          ID  LIMIT_BAL    SEX  EDUCATION  MARRIAGE    AGE  PAY_0  PAY_2  \\\n",
              "0      False      False  False      False     False  False  False  False   \n",
              "1      False      False  False      False     False  False  False  False   \n",
              "2      False      False  False      False     False  False  False  False   \n",
              "3      False      False  False      False     False  False  False  False   \n",
              "4      False      False  False      False     False  False  False  False   \n",
              "...      ...        ...    ...        ...       ...    ...    ...    ...   \n",
              "29995  False      False  False      False     False  False  False  False   \n",
              "29996  False      False  False      False     False  False  False  False   \n",
              "29997  False      False  False      False     False  False  False  False   \n",
              "29998  False      False  False      False     False  False  False  False   \n",
              "29999  False      False  False      False     False  False  False  False   \n",
              "\n",
              "       PAY_3  PAY_4  ...  BILL_AMT4  BILL_AMT5  BILL_AMT6  PAY_AMT1  PAY_AMT2  \\\n",
              "0      False  False  ...      False      False      False     False     False   \n",
              "1      False  False  ...      False      False      False     False     False   \n",
              "2      False  False  ...      False      False      False     False     False   \n",
              "3      False  False  ...      False      False      False     False     False   \n",
              "4      False  False  ...      False      False      False     False     False   \n",
              "...      ...    ...  ...        ...        ...        ...       ...       ...   \n",
              "29995  False  False  ...      False      False      False     False     False   \n",
              "29996  False  False  ...      False      False      False     False     False   \n",
              "29997  False  False  ...      False      False      False     False     False   \n",
              "29998  False  False  ...      False      False      False     False     False   \n",
              "29999  False  False  ...      False      False      False     False     False   \n",
              "\n",
              "       PAY_AMT3  PAY_AMT4  PAY_AMT5  PAY_AMT6  default payment next month  \n",
              "0         False     False     False     False                       False  \n",
              "1         False     False     False     False                       False  \n",
              "2         False     False     False     False                       False  \n",
              "3         False     False     False     False                       False  \n",
              "4         False     False     False     False                       False  \n",
              "...         ...       ...       ...       ...                         ...  \n",
              "29995     False     False     False     False                       False  \n",
              "29996     False     False     False     False                       False  \n",
              "29997     False     False     False     False                       False  \n",
              "29998     False     False     False     False                       False  \n",
              "29999     False     False     False     False                       False  \n",
              "\n",
              "[30000 rows x 25 columns]"
            ]
          },
          "execution_count": 244,
          "metadata": {},
          "output_type": "execute_result"
        }
      ],
      "source": [
        "#Charger un résumé des diffrentes variables dans notre \"DataFrame\"\n",
        "profile = ProfileReport(df, title='Pandas Profiling Report', html={'style':{'full_width':True}})\n",
        "profile\n",
        "\n",
        "#identification des valeurs nulles\n",
        "df.isnull().values.any()\n",
        "\n",
        "#verifier encore si il ya des valeurs nulles\n",
        "df.isnull()"
      ]
    },
    {
      "cell_type": "code",
      "execution_count": null,
      "metadata": {
        "id": "qRUuCqMKpPNO",
        "outputId": "4b0b7445-2026-4fa2-b945-f1642f60dab4"
      },
      "outputs": [
        {
          "data": {
            "text/plain": [
              "(30000, 25)"
            ]
          },
          "execution_count": 245,
          "metadata": {},
          "output_type": "execute_result"
        }
      ],
      "source": [
        "# dimensions : nombre de lignes et nombre de colonnes\n",
        "df.shape"
      ]
    },
    {
      "cell_type": "code",
      "execution_count": null,
      "metadata": {
        "id": "pSmw3suPpPNO",
        "outputId": "0b42ef77-8a30-4a4c-9c60-4943f7106877"
      },
      "outputs": [
        {
          "data": {
            "text/plain": [
              "Index(['ID', 'LIMIT_BAL', 'SEX', 'EDUCATION', 'MARRIAGE', 'AGE', 'PAY_0',\n",
              "       'PAY_2', 'PAY_3', 'PAY_4', 'PAY_5', 'PAY_6', 'BILL_AMT1', 'BILL_AMT2',\n",
              "       'BILL_AMT3', 'BILL_AMT4', 'BILL_AMT5', 'BILL_AMT6', 'PAY_AMT1',\n",
              "       'PAY_AMT2', 'PAY_AMT3', 'PAY_AMT4', 'PAY_AMT5', 'PAY_AMT6',\n",
              "       'default payment next month'],\n",
              "      dtype='object')"
            ]
          },
          "execution_count": 246,
          "metadata": {},
          "output_type": "execute_result"
        }
      ],
      "source": [
        "#Affiche les variables \n",
        "df.columns"
      ]
    },
    {
      "cell_type": "code",
      "execution_count": null,
      "metadata": {
        "id": "tb19q4kDpPNO",
        "outputId": "d82b0a1a-7eb4-41bd-b9f7-d00b141edaa9"
      },
      "outputs": [
        {
          "data": {
            "text/html": [
              "<div>\n",
              "<style scoped>\n",
              "    .dataframe tbody tr th:only-of-type {\n",
              "        vertical-align: middle;\n",
              "    }\n",
              "\n",
              "    .dataframe tbody tr th {\n",
              "        vertical-align: top;\n",
              "    }\n",
              "\n",
              "    .dataframe thead th {\n",
              "        text-align: right;\n",
              "    }\n",
              "</style>\n",
              "<table border=\"1\" class=\"dataframe\">\n",
              "  <thead>\n",
              "    <tr style=\"text-align: right;\">\n",
              "      <th></th>\n",
              "      <th>ID</th>\n",
              "      <th>LIMIT_BAL</th>\n",
              "      <th>SEX</th>\n",
              "      <th>EDUCATION</th>\n",
              "      <th>MARRIAGE</th>\n",
              "      <th>AGE</th>\n",
              "      <th>PAY_0</th>\n",
              "      <th>PAY_2</th>\n",
              "      <th>PAY_3</th>\n",
              "      <th>PAY_4</th>\n",
              "      <th>...</th>\n",
              "      <th>BILL_AMT4</th>\n",
              "      <th>BILL_AMT5</th>\n",
              "      <th>BILL_AMT6</th>\n",
              "      <th>PAY_AMT1</th>\n",
              "      <th>PAY_AMT2</th>\n",
              "      <th>PAY_AMT3</th>\n",
              "      <th>PAY_AMT4</th>\n",
              "      <th>PAY_AMT5</th>\n",
              "      <th>PAY_AMT6</th>\n",
              "      <th>default payment next month</th>\n",
              "    </tr>\n",
              "  </thead>\n",
              "  <tbody>\n",
              "    <tr>\n",
              "      <th>count</th>\n",
              "      <td>30000.000000</td>\n",
              "      <td>30000.000000</td>\n",
              "      <td>30000.000000</td>\n",
              "      <td>30000.000000</td>\n",
              "      <td>30000.000000</td>\n",
              "      <td>30000.000000</td>\n",
              "      <td>30000.000000</td>\n",
              "      <td>30000.000000</td>\n",
              "      <td>30000.000000</td>\n",
              "      <td>30000.000000</td>\n",
              "      <td>...</td>\n",
              "      <td>30000.000000</td>\n",
              "      <td>30000.000000</td>\n",
              "      <td>30000.000000</td>\n",
              "      <td>30000.000000</td>\n",
              "      <td>3.000000e+04</td>\n",
              "      <td>30000.00000</td>\n",
              "      <td>30000.000000</td>\n",
              "      <td>30000.000000</td>\n",
              "      <td>30000.000000</td>\n",
              "      <td>30000.000000</td>\n",
              "    </tr>\n",
              "    <tr>\n",
              "      <th>mean</th>\n",
              "      <td>15000.500000</td>\n",
              "      <td>167484.322667</td>\n",
              "      <td>1.603733</td>\n",
              "      <td>1.853133</td>\n",
              "      <td>1.551867</td>\n",
              "      <td>35.485500</td>\n",
              "      <td>-0.016700</td>\n",
              "      <td>-0.133767</td>\n",
              "      <td>-0.166200</td>\n",
              "      <td>-0.220667</td>\n",
              "      <td>...</td>\n",
              "      <td>43262.948967</td>\n",
              "      <td>40311.400967</td>\n",
              "      <td>38871.760400</td>\n",
              "      <td>5663.580500</td>\n",
              "      <td>5.921163e+03</td>\n",
              "      <td>5225.68150</td>\n",
              "      <td>4826.076867</td>\n",
              "      <td>4799.387633</td>\n",
              "      <td>5215.502567</td>\n",
              "      <td>0.221200</td>\n",
              "    </tr>\n",
              "    <tr>\n",
              "      <th>std</th>\n",
              "      <td>8660.398374</td>\n",
              "      <td>129747.661567</td>\n",
              "      <td>0.489129</td>\n",
              "      <td>0.790349</td>\n",
              "      <td>0.521970</td>\n",
              "      <td>9.217904</td>\n",
              "      <td>1.123802</td>\n",
              "      <td>1.197186</td>\n",
              "      <td>1.196868</td>\n",
              "      <td>1.169139</td>\n",
              "      <td>...</td>\n",
              "      <td>64332.856134</td>\n",
              "      <td>60797.155770</td>\n",
              "      <td>59554.107537</td>\n",
              "      <td>16563.280354</td>\n",
              "      <td>2.304087e+04</td>\n",
              "      <td>17606.96147</td>\n",
              "      <td>15666.159744</td>\n",
              "      <td>15278.305679</td>\n",
              "      <td>17777.465775</td>\n",
              "      <td>0.415062</td>\n",
              "    </tr>\n",
              "    <tr>\n",
              "      <th>min</th>\n",
              "      <td>1.000000</td>\n",
              "      <td>10000.000000</td>\n",
              "      <td>1.000000</td>\n",
              "      <td>0.000000</td>\n",
              "      <td>0.000000</td>\n",
              "      <td>21.000000</td>\n",
              "      <td>-2.000000</td>\n",
              "      <td>-2.000000</td>\n",
              "      <td>-2.000000</td>\n",
              "      <td>-2.000000</td>\n",
              "      <td>...</td>\n",
              "      <td>-170000.000000</td>\n",
              "      <td>-81334.000000</td>\n",
              "      <td>-339603.000000</td>\n",
              "      <td>0.000000</td>\n",
              "      <td>0.000000e+00</td>\n",
              "      <td>0.00000</td>\n",
              "      <td>0.000000</td>\n",
              "      <td>0.000000</td>\n",
              "      <td>0.000000</td>\n",
              "      <td>0.000000</td>\n",
              "    </tr>\n",
              "    <tr>\n",
              "      <th>25%</th>\n",
              "      <td>7500.750000</td>\n",
              "      <td>50000.000000</td>\n",
              "      <td>1.000000</td>\n",
              "      <td>1.000000</td>\n",
              "      <td>1.000000</td>\n",
              "      <td>28.000000</td>\n",
              "      <td>-1.000000</td>\n",
              "      <td>-1.000000</td>\n",
              "      <td>-1.000000</td>\n",
              "      <td>-1.000000</td>\n",
              "      <td>...</td>\n",
              "      <td>2326.750000</td>\n",
              "      <td>1763.000000</td>\n",
              "      <td>1256.000000</td>\n",
              "      <td>1000.000000</td>\n",
              "      <td>8.330000e+02</td>\n",
              "      <td>390.00000</td>\n",
              "      <td>296.000000</td>\n",
              "      <td>252.500000</td>\n",
              "      <td>117.750000</td>\n",
              "      <td>0.000000</td>\n",
              "    </tr>\n",
              "    <tr>\n",
              "      <th>50%</th>\n",
              "      <td>15000.500000</td>\n",
              "      <td>140000.000000</td>\n",
              "      <td>2.000000</td>\n",
              "      <td>2.000000</td>\n",
              "      <td>2.000000</td>\n",
              "      <td>34.000000</td>\n",
              "      <td>0.000000</td>\n",
              "      <td>0.000000</td>\n",
              "      <td>0.000000</td>\n",
              "      <td>0.000000</td>\n",
              "      <td>...</td>\n",
              "      <td>19052.000000</td>\n",
              "      <td>18104.500000</td>\n",
              "      <td>17071.000000</td>\n",
              "      <td>2100.000000</td>\n",
              "      <td>2.009000e+03</td>\n",
              "      <td>1800.00000</td>\n",
              "      <td>1500.000000</td>\n",
              "      <td>1500.000000</td>\n",
              "      <td>1500.000000</td>\n",
              "      <td>0.000000</td>\n",
              "    </tr>\n",
              "    <tr>\n",
              "      <th>75%</th>\n",
              "      <td>22500.250000</td>\n",
              "      <td>240000.000000</td>\n",
              "      <td>2.000000</td>\n",
              "      <td>2.000000</td>\n",
              "      <td>2.000000</td>\n",
              "      <td>41.000000</td>\n",
              "      <td>0.000000</td>\n",
              "      <td>0.000000</td>\n",
              "      <td>0.000000</td>\n",
              "      <td>0.000000</td>\n",
              "      <td>...</td>\n",
              "      <td>54506.000000</td>\n",
              "      <td>50190.500000</td>\n",
              "      <td>49198.250000</td>\n",
              "      <td>5006.000000</td>\n",
              "      <td>5.000000e+03</td>\n",
              "      <td>4505.00000</td>\n",
              "      <td>4013.250000</td>\n",
              "      <td>4031.500000</td>\n",
              "      <td>4000.000000</td>\n",
              "      <td>0.000000</td>\n",
              "    </tr>\n",
              "    <tr>\n",
              "      <th>max</th>\n",
              "      <td>30000.000000</td>\n",
              "      <td>1000000.000000</td>\n",
              "      <td>2.000000</td>\n",
              "      <td>6.000000</td>\n",
              "      <td>3.000000</td>\n",
              "      <td>79.000000</td>\n",
              "      <td>8.000000</td>\n",
              "      <td>8.000000</td>\n",
              "      <td>8.000000</td>\n",
              "      <td>8.000000</td>\n",
              "      <td>...</td>\n",
              "      <td>891586.000000</td>\n",
              "      <td>927171.000000</td>\n",
              "      <td>961664.000000</td>\n",
              "      <td>873552.000000</td>\n",
              "      <td>1.684259e+06</td>\n",
              "      <td>896040.00000</td>\n",
              "      <td>621000.000000</td>\n",
              "      <td>426529.000000</td>\n",
              "      <td>528666.000000</td>\n",
              "      <td>1.000000</td>\n",
              "    </tr>\n",
              "  </tbody>\n",
              "</table>\n",
              "<p>8 rows × 25 columns</p>\n",
              "</div>"
            ],
            "text/plain": [
              "                 ID       LIMIT_BAL           SEX     EDUCATION      MARRIAGE  \\\n",
              "count  30000.000000    30000.000000  30000.000000  30000.000000  30000.000000   \n",
              "mean   15000.500000   167484.322667      1.603733      1.853133      1.551867   \n",
              "std     8660.398374   129747.661567      0.489129      0.790349      0.521970   \n",
              "min        1.000000    10000.000000      1.000000      0.000000      0.000000   \n",
              "25%     7500.750000    50000.000000      1.000000      1.000000      1.000000   \n",
              "50%    15000.500000   140000.000000      2.000000      2.000000      2.000000   \n",
              "75%    22500.250000   240000.000000      2.000000      2.000000      2.000000   \n",
              "max    30000.000000  1000000.000000      2.000000      6.000000      3.000000   \n",
              "\n",
              "                AGE         PAY_0         PAY_2         PAY_3         PAY_4  \\\n",
              "count  30000.000000  30000.000000  30000.000000  30000.000000  30000.000000   \n",
              "mean      35.485500     -0.016700     -0.133767     -0.166200     -0.220667   \n",
              "std        9.217904      1.123802      1.197186      1.196868      1.169139   \n",
              "min       21.000000     -2.000000     -2.000000     -2.000000     -2.000000   \n",
              "25%       28.000000     -1.000000     -1.000000     -1.000000     -1.000000   \n",
              "50%       34.000000      0.000000      0.000000      0.000000      0.000000   \n",
              "75%       41.000000      0.000000      0.000000      0.000000      0.000000   \n",
              "max       79.000000      8.000000      8.000000      8.000000      8.000000   \n",
              "\n",
              "       ...      BILL_AMT4      BILL_AMT5      BILL_AMT6       PAY_AMT1  \\\n",
              "count  ...   30000.000000   30000.000000   30000.000000   30000.000000   \n",
              "mean   ...   43262.948967   40311.400967   38871.760400    5663.580500   \n",
              "std    ...   64332.856134   60797.155770   59554.107537   16563.280354   \n",
              "min    ... -170000.000000  -81334.000000 -339603.000000       0.000000   \n",
              "25%    ...    2326.750000    1763.000000    1256.000000    1000.000000   \n",
              "50%    ...   19052.000000   18104.500000   17071.000000    2100.000000   \n",
              "75%    ...   54506.000000   50190.500000   49198.250000    5006.000000   \n",
              "max    ...  891586.000000  927171.000000  961664.000000  873552.000000   \n",
              "\n",
              "           PAY_AMT2      PAY_AMT3       PAY_AMT4       PAY_AMT5  \\\n",
              "count  3.000000e+04   30000.00000   30000.000000   30000.000000   \n",
              "mean   5.921163e+03    5225.68150    4826.076867    4799.387633   \n",
              "std    2.304087e+04   17606.96147   15666.159744   15278.305679   \n",
              "min    0.000000e+00       0.00000       0.000000       0.000000   \n",
              "25%    8.330000e+02     390.00000     296.000000     252.500000   \n",
              "50%    2.009000e+03    1800.00000    1500.000000    1500.000000   \n",
              "75%    5.000000e+03    4505.00000    4013.250000    4031.500000   \n",
              "max    1.684259e+06  896040.00000  621000.000000  426529.000000   \n",
              "\n",
              "            PAY_AMT6  default payment next month  \n",
              "count   30000.000000                30000.000000  \n",
              "mean     5215.502567                    0.221200  \n",
              "std     17777.465775                    0.415062  \n",
              "min         0.000000                    0.000000  \n",
              "25%       117.750000                    0.000000  \n",
              "50%      1500.000000                    0.000000  \n",
              "75%      4000.000000                    0.000000  \n",
              "max    528666.000000                    1.000000  \n",
              "\n",
              "[8 rows x 25 columns]"
            ]
          },
          "execution_count": 247,
          "metadata": {},
          "output_type": "execute_result"
        }
      ],
      "source": [
        "# Description de Notre DataFrame \n",
        "df.describe()"
      ]
    },
    {
      "cell_type": "markdown",
      "metadata": {
        "id": "QcFyyI55pPNP"
      },
      "source": [
        "### Description Graphique de notre DataFrame \n"
      ]
    },
    {
      "cell_type": "code",
      "execution_count": null,
      "metadata": {
        "id": "rgmtaIkqpPNP"
      },
      "outputs": [],
      "source": [
        "%matplotlib inline\n",
        "# importation de librairie\n",
        "import numpy as np\n",
        "import matplotlib.pyplot as plt\n",
        "import matplotlib\n",
        "import matplotlib.patches as mpatches"
      ]
    },
    {
      "cell_type": "code",
      "execution_count": null,
      "metadata": {
        "id": "lwEQH2s0pPNP",
        "outputId": "f46873b4-f7c7-43dd-e76c-7449f94823b4"
      },
      "outputs": [
        {
          "data": {
            "text/plain": [
              "array([[<AxesSubplot:title={'center':'AGE'}>]], dtype=object)"
            ]
          },
          "execution_count": 249,
          "metadata": {},
          "output_type": "execute_result"
        },
        {
          "data": {
            "image/png": "[encoded data removed]",
            "text/plain": [
              "<Figure size 432x288 with 1 Axes>"
            ]
          },
          "metadata": {
            "needs_background": "light"
          },
          "output_type": "display_data"
        }
      ],
      "source": [
        "# histogramme de l'âge\n",
        "df.hist(column='AGE')"
      ]
    },
    {
      "cell_type": "code",
      "execution_count": null,
      "metadata": {
        "id": "Pt-P4WfRpPNP",
        "outputId": "4503f8fe-8f3d-4556-d68c-f24402e4ca05"
      },
      "outputs": [
        {
          "data": {
            "text/plain": [
              "<AxesSubplot:ylabel='Density'>"
            ]
          },
          "execution_count": 250,
          "metadata": {},
          "output_type": "execute_result"
        },
        {
          "data": {
            "image/png": "[encoded data removed]",
            "text/plain": [
              "<Figure size 432x288 with 1 Axes>"
            ]
          },
          "metadata": {
            "needs_background": "light"
          },
          "output_type": "display_data"
        }
      ],
      "source": [
        "# density plot\n",
        "# kernel density estimation\n",
        "df['AGE'].plot.kde()"
      ]
    },
    {
      "cell_type": "markdown",
      "metadata": {
        "id": "ikwn6DXUpPNQ"
      },
      "source": [
        "#### III. Data preparation \n",
        "\n",
        "Organiser les données pour la modélisation\n"
      ]
    },
    {
      "cell_type": "markdown",
      "metadata": {
        "id": "FkK56KyfpPNQ"
      },
      "source": [
        "# Feature Selection\n"
      ]
    },
    {
      "cell_type": "code",
      "execution_count": null,
      "metadata": {
        "id": "pnhyWZMhpPNQ"
      },
      "outputs": [],
      "source": [
        "#suppression de la Colonne ID:colonne qui n'a pas d'influence su la valeur cible\n",
        "df.drop('ID',\n",
        "  axis='columns', inplace=True)"
      ]
    },
    {
      "cell_type": "code",
      "execution_count": null,
      "metadata": {
        "id": "GdivFLeBpPNQ",
        "outputId": "81d3c65b-dd62-4d35-de99-dbf541ae0237"
      },
      "outputs": [
        {
          "data": {
            "text/plain": [
              "(30000, 24)"
            ]
          },
          "execution_count": 252,
          "metadata": {},
          "output_type": "execute_result"
        }
      ],
      "source": [
        "df.shape"
      ]
    },
    {
      "cell_type": "code",
      "execution_count": null,
      "metadata": {
        "id": "XkyW22xvpPNR"
      },
      "outputs": [],
      "source": [
        "array = df.values\n",
        "X1=df.drop(\"default payment next month\",axis=1)\n",
        "Y1=df[\"default payment next month\"]"
      ]
    },
    {
      "cell_type": "code",
      "execution_count": null,
      "metadata": {
        "id": "-FUJUNJ4pPNR",
        "outputId": "6e8d27f5-c365-4b55-cfa2-53f4f6bb5e27"
      },
      "outputs": [
        {
          "data": {
            "text/html": [
              "<div>\n",
              "<style scoped>\n",
              "    .dataframe tbody tr th:only-of-type {\n",
              "        vertical-align: middle;\n",
              "    }\n",
              "\n",
              "    .dataframe tbody tr th {\n",
              "        vertical-align: top;\n",
              "    }\n",
              "\n",
              "    .dataframe thead th {\n",
              "        text-align: right;\n",
              "    }\n",
              "</style>\n",
              "<table border=\"1\" class=\"dataframe\">\n",
              "  <thead>\n",
              "    <tr style=\"text-align: right;\">\n",
              "      <th></th>\n",
              "      <th>LIMIT_BAL</th>\n",
              "      <th>SEX</th>\n",
              "      <th>EDUCATION</th>\n",
              "      <th>MARRIAGE</th>\n",
              "      <th>AGE</th>\n",
              "      <th>PAY_0</th>\n",
              "      <th>PAY_2</th>\n",
              "      <th>PAY_3</th>\n",
              "      <th>PAY_4</th>\n",
              "      <th>PAY_5</th>\n",
              "      <th>...</th>\n",
              "      <th>BILL_AMT3</th>\n",
              "      <th>BILL_AMT4</th>\n",
              "      <th>BILL_AMT5</th>\n",
              "      <th>BILL_AMT6</th>\n",
              "      <th>PAY_AMT1</th>\n",
              "      <th>PAY_AMT2</th>\n",
              "      <th>PAY_AMT3</th>\n",
              "      <th>PAY_AMT4</th>\n",
              "      <th>PAY_AMT5</th>\n",
              "      <th>PAY_AMT6</th>\n",
              "    </tr>\n",
              "  </thead>\n",
              "  <tbody>\n",
              "    <tr>\n",
              "      <th>0</th>\n",
              "      <td>20000</td>\n",
              "      <td>2</td>\n",
              "      <td>2</td>\n",
              "      <td>1</td>\n",
              "      <td>24</td>\n",
              "      <td>2</td>\n",
              "      <td>2</td>\n",
              "      <td>-1</td>\n",
              "      <td>-1</td>\n",
              "      <td>-2</td>\n",
              "      <td>...</td>\n",
              "      <td>689</td>\n",
              "      <td>0</td>\n",
              "      <td>0</td>\n",
              "      <td>0</td>\n",
              "      <td>0</td>\n",
              "      <td>689</td>\n",
              "      <td>0</td>\n",
              "      <td>0</td>\n",
              "      <td>0</td>\n",
              "      <td>0</td>\n",
              "    </tr>\n",
              "    <tr>\n",
              "      <th>1</th>\n",
              "      <td>120000</td>\n",
              "      <td>2</td>\n",
              "      <td>2</td>\n",
              "      <td>2</td>\n",
              "      <td>26</td>\n",
              "      <td>-1</td>\n",
              "      <td>2</td>\n",
              "      <td>0</td>\n",
              "      <td>0</td>\n",
              "      <td>0</td>\n",
              "      <td>...</td>\n",
              "      <td>2682</td>\n",
              "      <td>3272</td>\n",
              "      <td>3455</td>\n",
              "      <td>3261</td>\n",
              "      <td>0</td>\n",
              "      <td>1000</td>\n",
              "      <td>1000</td>\n",
              "      <td>1000</td>\n",
              "      <td>0</td>\n",
              "      <td>2000</td>\n",
              "    </tr>\n",
              "    <tr>\n",
              "      <th>2</th>\n",
              "      <td>90000</td>\n",
              "      <td>2</td>\n",
              "      <td>2</td>\n",
              "      <td>2</td>\n",
              "      <td>34</td>\n",
              "      <td>0</td>\n",
              "      <td>0</td>\n",
              "      <td>0</td>\n",
              "      <td>0</td>\n",
              "      <td>0</td>\n",
              "      <td>...</td>\n",
              "      <td>13559</td>\n",
              "      <td>14331</td>\n",
              "      <td>14948</td>\n",
              "      <td>15549</td>\n",
              "      <td>1518</td>\n",
              "      <td>1500</td>\n",
              "      <td>1000</td>\n",
              "      <td>1000</td>\n",
              "      <td>1000</td>\n",
              "      <td>5000</td>\n",
              "    </tr>\n",
              "    <tr>\n",
              "      <th>3</th>\n",
              "      <td>50000</td>\n",
              "      <td>2</td>\n",
              "      <td>2</td>\n",
              "      <td>1</td>\n",
              "      <td>37</td>\n",
              "      <td>0</td>\n",
              "      <td>0</td>\n",
              "      <td>0</td>\n",
              "      <td>0</td>\n",
              "      <td>0</td>\n",
              "      <td>...</td>\n",
              "      <td>49291</td>\n",
              "      <td>28314</td>\n",
              "      <td>28959</td>\n",
              "      <td>29547</td>\n",
              "      <td>2000</td>\n",
              "      <td>2019</td>\n",
              "      <td>1200</td>\n",
              "      <td>1100</td>\n",
              "      <td>1069</td>\n",
              "      <td>1000</td>\n",
              "    </tr>\n",
              "    <tr>\n",
              "      <th>4</th>\n",
              "      <td>50000</td>\n",
              "      <td>1</td>\n",
              "      <td>2</td>\n",
              "      <td>1</td>\n",
              "      <td>57</td>\n",
              "      <td>-1</td>\n",
              "      <td>0</td>\n",
              "      <td>-1</td>\n",
              "      <td>0</td>\n",
              "      <td>0</td>\n",
              "      <td>...</td>\n",
              "      <td>35835</td>\n",
              "      <td>20940</td>\n",
              "      <td>19146</td>\n",
              "      <td>19131</td>\n",
              "      <td>2000</td>\n",
              "      <td>36681</td>\n",
              "      <td>10000</td>\n",
              "      <td>9000</td>\n",
              "      <td>689</td>\n",
              "      <td>679</td>\n",
              "    </tr>\n",
              "    <tr>\n",
              "      <th>...</th>\n",
              "      <td>...</td>\n",
              "      <td>...</td>\n",
              "      <td>...</td>\n",
              "      <td>...</td>\n",
              "      <td>...</td>\n",
              "      <td>...</td>\n",
              "      <td>...</td>\n",
              "      <td>...</td>\n",
              "      <td>...</td>\n",
              "      <td>...</td>\n",
              "      <td>...</td>\n",
              "      <td>...</td>\n",
              "      <td>...</td>\n",
              "      <td>...</td>\n",
              "      <td>...</td>\n",
              "      <td>...</td>\n",
              "      <td>...</td>\n",
              "      <td>...</td>\n",
              "      <td>...</td>\n",
              "      <td>...</td>\n",
              "      <td>...</td>\n",
              "    </tr>\n",
              "    <tr>\n",
              "      <th>29995</th>\n",
              "      <td>220000</td>\n",
              "      <td>1</td>\n",
              "      <td>3</td>\n",
              "      <td>1</td>\n",
              "      <td>39</td>\n",
              "      <td>0</td>\n",
              "      <td>0</td>\n",
              "      <td>0</td>\n",
              "      <td>0</td>\n",
              "      <td>0</td>\n",
              "      <td>...</td>\n",
              "      <td>208365</td>\n",
              "      <td>88004</td>\n",
              "      <td>31237</td>\n",
              "      <td>15980</td>\n",
              "      <td>8500</td>\n",
              "      <td>20000</td>\n",
              "      <td>5003</td>\n",
              "      <td>3047</td>\n",
              "      <td>5000</td>\n",
              "      <td>1000</td>\n",
              "    </tr>\n",
              "    <tr>\n",
              "      <th>29996</th>\n",
              "      <td>150000</td>\n",
              "      <td>1</td>\n",
              "      <td>3</td>\n",
              "      <td>2</td>\n",
              "      <td>43</td>\n",
              "      <td>-1</td>\n",
              "      <td>-1</td>\n",
              "      <td>-1</td>\n",
              "      <td>-1</td>\n",
              "      <td>0</td>\n",
              "      <td>...</td>\n",
              "      <td>3502</td>\n",
              "      <td>8979</td>\n",
              "      <td>5190</td>\n",
              "      <td>0</td>\n",
              "      <td>1837</td>\n",
              "      <td>3526</td>\n",
              "      <td>8998</td>\n",
              "      <td>129</td>\n",
              "      <td>0</td>\n",
              "      <td>0</td>\n",
              "    </tr>\n",
              "    <tr>\n",
              "      <th>29997</th>\n",
              "      <td>30000</td>\n",
              "      <td>1</td>\n",
              "      <td>2</td>\n",
              "      <td>2</td>\n",
              "      <td>37</td>\n",
              "      <td>4</td>\n",
              "      <td>3</td>\n",
              "      <td>2</td>\n",
              "      <td>-1</td>\n",
              "      <td>0</td>\n",
              "      <td>...</td>\n",
              "      <td>2758</td>\n",
              "      <td>20878</td>\n",
              "      <td>20582</td>\n",
              "      <td>19357</td>\n",
              "      <td>0</td>\n",
              "      <td>0</td>\n",
              "      <td>22000</td>\n",
              "      <td>4200</td>\n",
              "      <td>2000</td>\n",
              "      <td>3100</td>\n",
              "    </tr>\n",
              "    <tr>\n",
              "      <th>29998</th>\n",
              "      <td>80000</td>\n",
              "      <td>1</td>\n",
              "      <td>3</td>\n",
              "      <td>1</td>\n",
              "      <td>41</td>\n",
              "      <td>1</td>\n",
              "      <td>-1</td>\n",
              "      <td>0</td>\n",
              "      <td>0</td>\n",
              "      <td>0</td>\n",
              "      <td>...</td>\n",
              "      <td>76304</td>\n",
              "      <td>52774</td>\n",
              "      <td>11855</td>\n",
              "      <td>48944</td>\n",
              "      <td>85900</td>\n",
              "      <td>3409</td>\n",
              "      <td>1178</td>\n",
              "      <td>1926</td>\n",
              "      <td>52964</td>\n",
              "      <td>1804</td>\n",
              "    </tr>\n",
              "    <tr>\n",
              "      <th>29999</th>\n",
              "      <td>50000</td>\n",
              "      <td>1</td>\n",
              "      <td>2</td>\n",
              "      <td>1</td>\n",
              "      <td>46</td>\n",
              "      <td>0</td>\n",
              "      <td>0</td>\n",
              "      <td>0</td>\n",
              "      <td>0</td>\n",
              "      <td>0</td>\n",
              "      <td>...</td>\n",
              "      <td>49764</td>\n",
              "      <td>36535</td>\n",
              "      <td>32428</td>\n",
              "      <td>15313</td>\n",
              "      <td>2078</td>\n",
              "      <td>1800</td>\n",
              "      <td>1430</td>\n",
              "      <td>1000</td>\n",
              "      <td>1000</td>\n",
              "      <td>1000</td>\n",
              "    </tr>\n",
              "  </tbody>\n",
              "</table>\n",
              "<p>30000 rows × 23 columns</p>\n",
              "</div>"
            ],
            "text/plain": [
              "       LIMIT_BAL  SEX  EDUCATION  MARRIAGE  AGE  PAY_0  PAY_2  PAY_3  PAY_4  \\\n",
              "0          20000    2          2         1   24      2      2     -1     -1   \n",
              "1         120000    2          2         2   26     -1      2      0      0   \n",
              "2          90000    2          2         2   34      0      0      0      0   \n",
              "3          50000    2          2         1   37      0      0      0      0   \n",
              "4          50000    1          2         1   57     -1      0     -1      0   \n",
              "...          ...  ...        ...       ...  ...    ...    ...    ...    ...   \n",
              "29995     220000    1          3         1   39      0      0      0      0   \n",
              "29996     150000    1          3         2   43     -1     -1     -1     -1   \n",
              "29997      30000    1          2         2   37      4      3      2     -1   \n",
              "29998      80000    1          3         1   41      1     -1      0      0   \n",
              "29999      50000    1          2         1   46      0      0      0      0   \n",
              "\n",
              "       PAY_5  ...  BILL_AMT3  BILL_AMT4  BILL_AMT5  BILL_AMT6  PAY_AMT1  \\\n",
              "0         -2  ...        689          0          0          0         0   \n",
              "1          0  ...       2682       3272       3455       3261         0   \n",
              "2          0  ...      13559      14331      14948      15549      1518   \n",
              "3          0  ...      49291      28314      28959      29547      2000   \n",
              "4          0  ...      35835      20940      19146      19131      2000   \n",
              "...      ...  ...        ...        ...        ...        ...       ...   \n",
              "29995      0  ...     208365      88004      31237      15980      8500   \n",
              "29996      0  ...       3502       8979       5190          0      1837   \n",
              "29997      0  ...       2758      20878      20582      19357         0   \n",
              "29998      0  ...      76304      52774      11855      48944     85900   \n",
              "29999      0  ...      49764      36535      32428      15313      2078   \n",
              "\n",
              "       PAY_AMT2  PAY_AMT3  PAY_AMT4  PAY_AMT5  PAY_AMT6  \n",
              "0           689         0         0         0         0  \n",
              "1          1000      1000      1000         0      2000  \n",
              "2          1500      1000      1000      1000      5000  \n",
              "3          2019      1200      1100      1069      1000  \n",
              "4         36681     10000      9000       689       679  \n",
              "...         ...       ...       ...       ...       ...  \n",
              "29995     20000      5003      3047      5000      1000  \n",
              "29996      3526      8998       129         0         0  \n",
              "29997         0     22000      4200      2000      3100  \n",
              "29998      3409      1178      1926     52964      1804  \n",
              "29999      1800      1430      1000      1000      1000  \n",
              "\n",
              "[30000 rows x 23 columns]"
            ]
          },
          "execution_count": 254,
          "metadata": {},
          "output_type": "execute_result"
        }
      ],
      "source": [
        "X1"
      ]
    },
    {
      "cell_type": "code",
      "execution_count": null,
      "metadata": {
        "id": "y1WiLFKRpPNR",
        "outputId": "f6fd2401-5d41-4059-dd5e-d3f698671149"
      },
      "outputs": [
        {
          "data": {
            "text/plain": [
              "0        1\n",
              "1        1\n",
              "2        0\n",
              "3        0\n",
              "4        0\n",
              "        ..\n",
              "29995    0\n",
              "29996    0\n",
              "29997    1\n",
              "29998    1\n",
              "29999    1\n",
              "Name: default payment next month, Length: 30000, dtype: int64"
            ]
          },
          "execution_count": 255,
          "metadata": {},
          "output_type": "execute_result"
        }
      ],
      "source": [
        "Y1"
      ]
    },
    {
      "cell_type": "markdown",
      "metadata": {
        "id": "cysbvKGhpPNR"
      },
      "source": [
        "## Nettoyage des données et suppression des facteurs les moins significatif"
      ]
    },
    {
      "cell_type": "markdown",
      "metadata": {
        "id": "80m2lG9apPNS"
      },
      "source": [
        "#### Methode 1 : Correlation"
      ]
    },
    {
      "cell_type": "code",
      "execution_count": null,
      "metadata": {
        "id": "BMiOlbwSpPNS",
        "outputId": "d38eea31-3800-40b6-a4a5-1d4dc5598055"
      },
      "outputs": [
        {
          "data": {
            "text/plain": [
              "LIMIT_BAL                     0.153520\n",
              "SEX                           0.039961\n",
              "EDUCATION                     0.028006\n",
              "MARRIAGE                      0.024339\n",
              "AGE                           0.013890\n",
              "PAY_0                         0.324794\n",
              "PAY_2                         0.263551\n",
              "PAY_3                         0.235253\n",
              "PAY_4                         0.216614\n",
              "PAY_5                         0.204149\n",
              "PAY_6                         0.186866\n",
              "BILL_AMT1                     0.019644\n",
              "BILL_AMT2                     0.014193\n",
              "BILL_AMT3                     0.014076\n",
              "BILL_AMT4                     0.010156\n",
              "BILL_AMT5                     0.006760\n",
              "BILL_AMT6                     0.005372\n",
              "PAY_AMT1                      0.072929\n",
              "PAY_AMT2                      0.058579\n",
              "PAY_AMT3                      0.056250\n",
              "PAY_AMT4                      0.056827\n",
              "PAY_AMT5                      0.055124\n",
              "PAY_AMT6                      0.053183\n",
              "default payment next month    1.000000\n",
              "Name: default payment next month, dtype: float64"
            ]
          },
          "execution_count": 256,
          "metadata": {},
          "output_type": "execute_result"
        }
      ],
      "source": [
        "cor = df.corr()\n",
        "#Correlation with output variable\n",
        "cor_target = abs(cor[\"default payment next month\"])\n",
        "#Selecting highly correlated features\n",
        "relevant_features = cor_target[cor_target>0.00]\n",
        "relevant_features"
      ]
    },
    {
      "cell_type": "markdown",
      "metadata": {
        "id": "cujZo37vpPNS"
      },
      "source": [
        "## Visualisation"
      ]
    },
    {
      "cell_type": "code",
      "execution_count": null,
      "metadata": {
        "id": "fQzF66bjpPNS",
        "outputId": "6b3f8b7d-b40e-4321-a5a8-14b92a705cd7"
      },
      "outputs": [
        {
          "data": {
            "image/png": "[encoded data removed]",
            "text/plain": [
              "<Figure size 1080x360 with 1 Axes>"
            ]
          },
          "metadata": {
            "needs_background": "light"
          },
          "output_type": "display_data"
        }
      ],
      "source": [
        "plt.figure(figsize=(15,5))\n",
        "plt.title(\"Correlation of Features with the default paymen next month \")\n",
        "df.corr()['default payment next month'].drop(index='default payment next month').sort_values(ascending=False).plot(kind='bar')\n",
        "plt.show()"
      ]
    },
    {
      "cell_type": "markdown",
      "metadata": {
        "id": "k28OEPkNpPNS"
      },
      "source": [
        "## Methode 2 : ANOVA"
      ]
    },
    {
      "cell_type": "code",
      "execution_count": null,
      "metadata": {
        "id": "SUzUHi7cpPNS"
      },
      "outputs": [],
      "source": [
        "from sklearn.feature_selection import f_classif"
      ]
    },
    {
      "cell_type": "code",
      "execution_count": null,
      "metadata": {
        "scrolled": true,
        "id": "jO60qG-ipPNS",
        "outputId": "05aa34e2-c5ef-4c47-ca84-f8e514104a8f"
      },
      "outputs": [
        {
          "data": {
            "text/html": [
              "<div>\n",
              "<style scoped>\n",
              "    .dataframe tbody tr th:only-of-type {\n",
              "        vertical-align: middle;\n",
              "    }\n",
              "\n",
              "    .dataframe tbody tr th {\n",
              "        vertical-align: top;\n",
              "    }\n",
              "\n",
              "    .dataframe thead th {\n",
              "        text-align: right;\n",
              "    }\n",
              "</style>\n",
              "<table border=\"1\" class=\"dataframe\">\n",
              "  <thead>\n",
              "    <tr style=\"text-align: right;\">\n",
              "      <th></th>\n",
              "      <th>Numerical_Feature</th>\n",
              "      <th>F-Score</th>\n",
              "      <th>p values</th>\n",
              "    </tr>\n",
              "  </thead>\n",
              "  <tbody>\n",
              "    <tr>\n",
              "      <th>0</th>\n",
              "      <td>PAY_0</td>\n",
              "      <td>3537.714970</td>\n",
              "      <td>0.000000</td>\n",
              "    </tr>\n",
              "    <tr>\n",
              "      <th>1</th>\n",
              "      <td>PAY_2</td>\n",
              "      <td>2239.169136</td>\n",
              "      <td>0.000000</td>\n",
              "    </tr>\n",
              "    <tr>\n",
              "      <th>2</th>\n",
              "      <td>PAY_3</td>\n",
              "      <td>1757.466444</td>\n",
              "      <td>0.000000</td>\n",
              "    </tr>\n",
              "    <tr>\n",
              "      <th>3</th>\n",
              "      <td>PAY_4</td>\n",
              "      <td>1476.845967</td>\n",
              "      <td>0.000000</td>\n",
              "    </tr>\n",
              "    <tr>\n",
              "      <th>4</th>\n",
              "      <td>PAY_5</td>\n",
              "      <td>1304.591176</td>\n",
              "      <td>0.000000</td>\n",
              "    </tr>\n",
              "    <tr>\n",
              "      <th>5</th>\n",
              "      <td>PAY_6</td>\n",
              "      <td>1085.402485</td>\n",
              "      <td>0.000000</td>\n",
              "    </tr>\n",
              "    <tr>\n",
              "      <th>6</th>\n",
              "      <td>LIMIT_BAL</td>\n",
              "      <td>724.068539</td>\n",
              "      <td>0.000000</td>\n",
              "    </tr>\n",
              "    <tr>\n",
              "      <th>7</th>\n",
              "      <td>PAY_AMT1</td>\n",
              "      <td>160.403810</td>\n",
              "      <td>0.000000</td>\n",
              "    </tr>\n",
              "    <tr>\n",
              "      <th>8</th>\n",
              "      <td>PAY_AMT2</td>\n",
              "      <td>103.291524</td>\n",
              "      <td>0.000000</td>\n",
              "    </tr>\n",
              "    <tr>\n",
              "      <th>9</th>\n",
              "      <td>PAY_AMT4</td>\n",
              "      <td>97.188000</td>\n",
              "      <td>0.000000</td>\n",
              "    </tr>\n",
              "    <tr>\n",
              "      <th>10</th>\n",
              "      <td>PAY_AMT3</td>\n",
              "      <td>95.218011</td>\n",
              "      <td>0.000000</td>\n",
              "    </tr>\n",
              "    <tr>\n",
              "      <th>11</th>\n",
              "      <td>PAY_AMT5</td>\n",
              "      <td>91.429801</td>\n",
              "      <td>0.000000</td>\n",
              "    </tr>\n",
              "    <tr>\n",
              "      <th>12</th>\n",
              "      <td>PAY_AMT6</td>\n",
              "      <td>85.089045</td>\n",
              "      <td>0.000000</td>\n",
              "    </tr>\n",
              "    <tr>\n",
              "      <th>13</th>\n",
              "      <td>SEX</td>\n",
              "      <td>47.978854</td>\n",
              "      <td>0.000000</td>\n",
              "    </tr>\n",
              "    <tr>\n",
              "      <th>14</th>\n",
              "      <td>EDUCATION</td>\n",
              "      <td>23.547112</td>\n",
              "      <td>0.000001</td>\n",
              "    </tr>\n",
              "    <tr>\n",
              "      <th>15</th>\n",
              "      <td>MARRIAGE</td>\n",
              "      <td>17.781271</td>\n",
              "      <td>0.000025</td>\n",
              "    </tr>\n",
              "    <tr>\n",
              "      <th>16</th>\n",
              "      <td>BILL_AMT1</td>\n",
              "      <td>11.580532</td>\n",
              "      <td>0.000667</td>\n",
              "    </tr>\n",
              "    <tr>\n",
              "      <th>17</th>\n",
              "      <td>BILL_AMT2</td>\n",
              "      <td>6.044238</td>\n",
              "      <td>0.013957</td>\n",
              "    </tr>\n",
              "    <tr>\n",
              "      <th>18</th>\n",
              "      <td>BILL_AMT3</td>\n",
              "      <td>5.944388</td>\n",
              "      <td>0.014770</td>\n",
              "    </tr>\n",
              "    <tr>\n",
              "      <th>19</th>\n",
              "      <td>AGE</td>\n",
              "      <td>5.788556</td>\n",
              "      <td>0.016137</td>\n",
              "    </tr>\n",
              "    <tr>\n",
              "      <th>20</th>\n",
              "      <td>BILL_AMT4</td>\n",
              "      <td>3.094745</td>\n",
              "      <td>0.078556</td>\n",
              "    </tr>\n",
              "    <tr>\n",
              "      <th>21</th>\n",
              "      <td>BILL_AMT5</td>\n",
              "      <td>1.371087</td>\n",
              "      <td>0.241634</td>\n",
              "    </tr>\n",
              "    <tr>\n",
              "      <th>22</th>\n",
              "      <td>BILL_AMT6</td>\n",
              "      <td>0.865820</td>\n",
              "      <td>0.352123</td>\n",
              "    </tr>\n",
              "  </tbody>\n",
              "</table>\n",
              "</div>"
            ],
            "text/plain": [
              "   Numerical_Feature      F-Score  p values\n",
              "0              PAY_0  3537.714970  0.000000\n",
              "1              PAY_2  2239.169136  0.000000\n",
              "2              PAY_3  1757.466444  0.000000\n",
              "3              PAY_4  1476.845967  0.000000\n",
              "4              PAY_5  1304.591176  0.000000\n",
              "5              PAY_6  1085.402485  0.000000\n",
              "6          LIMIT_BAL   724.068539  0.000000\n",
              "7           PAY_AMT1   160.403810  0.000000\n",
              "8           PAY_AMT2   103.291524  0.000000\n",
              "9           PAY_AMT4    97.188000  0.000000\n",
              "10          PAY_AMT3    95.218011  0.000000\n",
              "11          PAY_AMT5    91.429801  0.000000\n",
              "12          PAY_AMT6    85.089045  0.000000\n",
              "13               SEX    47.978854  0.000000\n",
              "14         EDUCATION    23.547112  0.000001\n",
              "15          MARRIAGE    17.781271  0.000025\n",
              "16         BILL_AMT1    11.580532  0.000667\n",
              "17         BILL_AMT2     6.044238  0.013957\n",
              "18         BILL_AMT3     5.944388  0.014770\n",
              "19               AGE     5.788556  0.016137\n",
              "20         BILL_AMT4     3.094745  0.078556\n",
              "21         BILL_AMT5     1.371087  0.241634\n",
              "22         BILL_AMT6     0.865820  0.352123"
            ]
          },
          "execution_count": 259,
          "metadata": {},
          "output_type": "execute_result"
        }
      ],
      "source": [
        "# since f_class_if does not accept missing values, we will do a very crude imputation of missing values\n",
        "#X_train_num.fillna(X_train_num.mean(), inplace = True)\n",
        "# Calculate F Statistic and corresponding p values\n",
        "F_statistic, p_values = f_classif(X1,Y1)\n",
        "# convert to a DF\n",
        "ANOVA_F_table = pd.DataFrame(data = {'Numerical_Feature': X1.columns.values, 'F-Score': F_statistic, 'p values': p_values.round(decimals=10)})\n",
        "ANOVA_F_table.sort_values(by = ['F-Score'], ascending = False, ignore_index = True, inplace = True)\n",
        "ANOVA_F_table"
      ]
    },
    {
      "cell_type": "code",
      "execution_count": null,
      "metadata": {
        "id": "r96ti0PlpPNT",
        "outputId": "a2150c07-58af-4e04-a6f6-4e10e8574b28"
      },
      "outputs": [
        {
          "data": {
            "text/plain": [
              "['LIMIT_BAL',\n",
              " 'SEX',\n",
              " 'EDUCATION',\n",
              " 'MARRIAGE',\n",
              " 'AGE',\n",
              " 'PAY_0',\n",
              " 'PAY_2',\n",
              " 'PAY_3',\n",
              " 'PAY_4',\n",
              " 'PAY_5',\n",
              " 'PAY_6',\n",
              " 'BILL_AMT1',\n",
              " 'BILL_AMT2',\n",
              " 'BILL_AMT3',\n",
              " 'BILL_AMT4',\n",
              " 'BILL_AMT5',\n",
              " 'BILL_AMT6',\n",
              " 'PAY_AMT1',\n",
              " 'PAY_AMT2',\n",
              " 'PAY_AMT3',\n",
              " 'PAY_AMT4',\n",
              " 'PAY_AMT5',\n",
              " 'PAY_AMT6',\n",
              " 'default payment next month']"
            ]
          },
          "execution_count": 260,
          "metadata": {},
          "output_type": "execute_result"
        }
      ],
      "source": [
        "feature_names = list(df.columns.values)\n",
        "feature_names"
      ]
    },
    {
      "cell_type": "markdown",
      "metadata": {
        "id": "i9CYne84pPNT"
      },
      "source": [
        "### Suppression de feature le moins significatif "
      ]
    },
    {
      "cell_type": "code",
      "execution_count": null,
      "metadata": {
        "id": "L5l6QBuvpPNT"
      },
      "outputs": [],
      "source": [
        "df.drop('BILL_AMT6',\n",
        "  axis='columns', inplace=True)"
      ]
    },
    {
      "cell_type": "code",
      "execution_count": null,
      "metadata": {
        "id": "w8JYjGEqpPNT",
        "outputId": "0f6fcd19-1627-49e1-d2ea-ea3a0a65a236"
      },
      "outputs": [
        {
          "data": {
            "text/plain": [
              "['LIMIT_BAL',\n",
              " 'SEX',\n",
              " 'EDUCATION',\n",
              " 'MARRIAGE',\n",
              " 'AGE',\n",
              " 'PAY_0',\n",
              " 'PAY_2',\n",
              " 'PAY_3',\n",
              " 'PAY_4',\n",
              " 'PAY_5',\n",
              " 'PAY_6',\n",
              " 'BILL_AMT1',\n",
              " 'BILL_AMT2',\n",
              " 'BILL_AMT3',\n",
              " 'BILL_AMT4',\n",
              " 'BILL_AMT5',\n",
              " 'PAY_AMT1',\n",
              " 'PAY_AMT2',\n",
              " 'PAY_AMT3',\n",
              " 'PAY_AMT4',\n",
              " 'PAY_AMT5',\n",
              " 'PAY_AMT6',\n",
              " 'default payment next month']"
            ]
          },
          "execution_count": 262,
          "metadata": {},
          "output_type": "execute_result"
        }
      ],
      "source": [
        "feature_names = list(df.columns.values)\n",
        "feature_names"
      ]
    },
    {
      "cell_type": "code",
      "execution_count": null,
      "metadata": {
        "id": "e7NJbIUhpPNT",
        "outputId": "dfa2f8d5-8bae-4c31-9c7d-df96a1572854"
      },
      "outputs": [
        {
          "data": {
            "text/plain": [
              "(30000, 23)"
            ]
          },
          "execution_count": 263,
          "metadata": {},
          "output_type": "execute_result"
        }
      ],
      "source": [
        "df.shape"
      ]
    },
    {
      "cell_type": "markdown",
      "metadata": {
        "id": "xmd_WelepPNT"
      },
      "source": [
        "## Suppression des valeurs aberrantes "
      ]
    },
    {
      "cell_type": "code",
      "execution_count": null,
      "metadata": {
        "id": "OWruH4AgpPNU"
      },
      "outputs": [],
      "source": [
        "def plot_boxplot(df, ft):\n",
        "    df.boxplot(column=[ft])\n",
        "    plt.grid(False)\n",
        "    plt.show()"
      ]
    },
    {
      "cell_type": "code",
      "execution_count": null,
      "metadata": {
        "id": "FCl08f8TpPNU",
        "outputId": "24311c4b-5865-436a-db70-ebc699b26dc4"
      },
      "outputs": [
        {
          "data": {
            "image/png": "[encoded data removed]",
            "text/plain": [
              "<Figure size 432x288 with 1 Axes>"
            ]
          },
          "metadata": {
            "needs_background": "light"
          },
          "output_type": "display_data"
        }
      ],
      "source": [
        "plot_boxplot(df,\"LIMIT_BAL\")"
      ]
    },
    {
      "cell_type": "code",
      "execution_count": null,
      "metadata": {
        "id": "vqDq53FSpPNU",
        "outputId": "cc9119b3-8073-4a52-8f0b-5c9c018f7a58"
      },
      "outputs": [
        {
          "data": {
            "image/png": "[encoded data removed]",
            "text/plain": [
              "<Figure size 432x288 with 1 Axes>"
            ]
          },
          "metadata": {
            "needs_background": "light"
          },
          "output_type": "display_data"
        }
      ],
      "source": [
        "plot_boxplot(df,\"PAY_AMT5\")"
      ]
    },
    {
      "cell_type": "code",
      "execution_count": null,
      "metadata": {
        "id": "jT_Np3kupPNU",
        "outputId": "05a0dee1-d86b-46f6-e3fa-def629849aa2"
      },
      "outputs": [
        {
          "data": {
            "image/png": "[encoded data removed]",
            "text/plain": [
              "<Figure size 432x288 with 1 Axes>"
            ]
          },
          "metadata": {
            "needs_background": "light"
          },
          "output_type": "display_data"
        }
      ],
      "source": [
        "plot_boxplot(df,\"BILL_AMT5\")"
      ]
    },
    {
      "cell_type": "markdown",
      "metadata": {
        "id": "V4w6QScspPNU"
      },
      "source": [
        "# Supprimer des valeurs aberrantes "
      ]
    },
    {
      "cell_type": "code",
      "execution_count": null,
      "metadata": {
        "id": "MdkNitQypPNU"
      },
      "outputs": [],
      "source": [
        "def outliers(df,ft):\n",
        "    Q1=df[ft].quantile(0.25)\n",
        "    Q3=df[ft].quantile(0.75)\n",
        "    IQR = Q3 - Q1\n",
        "    lower_bound = Q1 - 1.5 * IQR\n",
        "    upper_bound = Q3 + 1.5 * IQR\n",
        "\n",
        "\n",
        "    ls = df.index[  (df[ft] < lower_bound) | (df[ft] > upper_bound ) ]\n",
        "\n",
        "    return ls"
      ]
    },
    {
      "cell_type": "code",
      "execution_count": null,
      "metadata": {
        "id": "OsGn9mJ4pPNU"
      },
      "outputs": [],
      "source": [
        "index_list= []\n",
        "for feature in [ 'LIMIT_BAL' , 'PAY_AMT5' , 'BILL_AMT5']:\n",
        "    index_list.extend(outliers(df,feature))"
      ]
    },
    {
      "cell_type": "code",
      "execution_count": null,
      "metadata": {
        "id": "pQdD_w33pPNV"
      },
      "outputs": [],
      "source": [
        "def remove(df, ls):\n",
        "    ls = sorted(set(ls))\n",
        "    df = df.drop(ls)\n",
        "    return df"
      ]
    },
    {
      "cell_type": "code",
      "execution_count": null,
      "metadata": {
        "id": "LaBG0xtupPNV"
      },
      "outputs": [],
      "source": [
        "df_cleaned = remove(df, index_list)"
      ]
    },
    {
      "cell_type": "code",
      "execution_count": null,
      "metadata": {
        "id": "7wOMP3MRpPNV",
        "outputId": "770329ed-ca51-49a9-f31f-7c3e765b1d31"
      },
      "outputs": [
        {
          "data": {
            "text/plain": [
              "(24979, 23)"
            ]
          },
          "execution_count": 272,
          "metadata": {},
          "output_type": "execute_result"
        }
      ],
      "source": [
        "df_cleaned.shape"
      ]
    },
    {
      "cell_type": "code",
      "execution_count": null,
      "metadata": {
        "id": "vpAQXxIApPNV"
      },
      "outputs": [],
      "source": [
        "array = df_cleaned.values\n",
        "X1=df_cleaned.drop(\"default payment next month\",axis=1)\n",
        "Y1=df_cleaned[\"default payment next month\"]"
      ]
    },
    {
      "cell_type": "code",
      "execution_count": null,
      "metadata": {
        "id": "hSHa4btQpPNV",
        "outputId": "09b80416-4373-45bd-ee93-12fda5f1cee1"
      },
      "outputs": [
        {
          "data": {
            "text/html": [
              "<div>\n",
              "<style scoped>\n",
              "    .dataframe tbody tr th:only-of-type {\n",
              "        vertical-align: middle;\n",
              "    }\n",
              "\n",
              "    .dataframe tbody tr th {\n",
              "        vertical-align: top;\n",
              "    }\n",
              "\n",
              "    .dataframe thead th {\n",
              "        text-align: right;\n",
              "    }\n",
              "</style>\n",
              "<table border=\"1\" class=\"dataframe\">\n",
              "  <thead>\n",
              "    <tr style=\"text-align: right;\">\n",
              "      <th></th>\n",
              "      <th>LIMIT_BAL</th>\n",
              "      <th>SEX</th>\n",
              "      <th>EDUCATION</th>\n",
              "      <th>MARRIAGE</th>\n",
              "      <th>AGE</th>\n",
              "      <th>PAY_0</th>\n",
              "      <th>PAY_2</th>\n",
              "      <th>PAY_3</th>\n",
              "      <th>PAY_4</th>\n",
              "      <th>PAY_5</th>\n",
              "      <th>...</th>\n",
              "      <th>BILL_AMT2</th>\n",
              "      <th>BILL_AMT3</th>\n",
              "      <th>BILL_AMT4</th>\n",
              "      <th>BILL_AMT5</th>\n",
              "      <th>PAY_AMT1</th>\n",
              "      <th>PAY_AMT2</th>\n",
              "      <th>PAY_AMT3</th>\n",
              "      <th>PAY_AMT4</th>\n",
              "      <th>PAY_AMT5</th>\n",
              "      <th>PAY_AMT6</th>\n",
              "    </tr>\n",
              "  </thead>\n",
              "  <tbody>\n",
              "    <tr>\n",
              "      <th>0</th>\n",
              "      <td>20000</td>\n",
              "      <td>2</td>\n",
              "      <td>2</td>\n",
              "      <td>1</td>\n",
              "      <td>24</td>\n",
              "      <td>2</td>\n",
              "      <td>2</td>\n",
              "      <td>-1</td>\n",
              "      <td>-1</td>\n",
              "      <td>-2</td>\n",
              "      <td>...</td>\n",
              "      <td>3102</td>\n",
              "      <td>689</td>\n",
              "      <td>0</td>\n",
              "      <td>0</td>\n",
              "      <td>0</td>\n",
              "      <td>689</td>\n",
              "      <td>0</td>\n",
              "      <td>0</td>\n",
              "      <td>0</td>\n",
              "      <td>0</td>\n",
              "    </tr>\n",
              "    <tr>\n",
              "      <th>1</th>\n",
              "      <td>120000</td>\n",
              "      <td>2</td>\n",
              "      <td>2</td>\n",
              "      <td>2</td>\n",
              "      <td>26</td>\n",
              "      <td>-1</td>\n",
              "      <td>2</td>\n",
              "      <td>0</td>\n",
              "      <td>0</td>\n",
              "      <td>0</td>\n",
              "      <td>...</td>\n",
              "      <td>1725</td>\n",
              "      <td>2682</td>\n",
              "      <td>3272</td>\n",
              "      <td>3455</td>\n",
              "      <td>0</td>\n",
              "      <td>1000</td>\n",
              "      <td>1000</td>\n",
              "      <td>1000</td>\n",
              "      <td>0</td>\n",
              "      <td>2000</td>\n",
              "    </tr>\n",
              "    <tr>\n",
              "      <th>2</th>\n",
              "      <td>90000</td>\n",
              "      <td>2</td>\n",
              "      <td>2</td>\n",
              "      <td>2</td>\n",
              "      <td>34</td>\n",
              "      <td>0</td>\n",
              "      <td>0</td>\n",
              "      <td>0</td>\n",
              "      <td>0</td>\n",
              "      <td>0</td>\n",
              "      <td>...</td>\n",
              "      <td>14027</td>\n",
              "      <td>13559</td>\n",
              "      <td>14331</td>\n",
              "      <td>14948</td>\n",
              "      <td>1518</td>\n",
              "      <td>1500</td>\n",
              "      <td>1000</td>\n",
              "      <td>1000</td>\n",
              "      <td>1000</td>\n",
              "      <td>5000</td>\n",
              "    </tr>\n",
              "    <tr>\n",
              "      <th>3</th>\n",
              "      <td>50000</td>\n",
              "      <td>2</td>\n",
              "      <td>2</td>\n",
              "      <td>1</td>\n",
              "      <td>37</td>\n",
              "      <td>0</td>\n",
              "      <td>0</td>\n",
              "      <td>0</td>\n",
              "      <td>0</td>\n",
              "      <td>0</td>\n",
              "      <td>...</td>\n",
              "      <td>48233</td>\n",
              "      <td>49291</td>\n",
              "      <td>28314</td>\n",
              "      <td>28959</td>\n",
              "      <td>2000</td>\n",
              "      <td>2019</td>\n",
              "      <td>1200</td>\n",
              "      <td>1100</td>\n",
              "      <td>1069</td>\n",
              "      <td>1000</td>\n",
              "    </tr>\n",
              "    <tr>\n",
              "      <th>4</th>\n",
              "      <td>50000</td>\n",
              "      <td>1</td>\n",
              "      <td>2</td>\n",
              "      <td>1</td>\n",
              "      <td>57</td>\n",
              "      <td>-1</td>\n",
              "      <td>0</td>\n",
              "      <td>-1</td>\n",
              "      <td>0</td>\n",
              "      <td>0</td>\n",
              "      <td>...</td>\n",
              "      <td>5670</td>\n",
              "      <td>35835</td>\n",
              "      <td>20940</td>\n",
              "      <td>19146</td>\n",
              "      <td>2000</td>\n",
              "      <td>36681</td>\n",
              "      <td>10000</td>\n",
              "      <td>9000</td>\n",
              "      <td>689</td>\n",
              "      <td>679</td>\n",
              "    </tr>\n",
              "    <tr>\n",
              "      <th>...</th>\n",
              "      <td>...</td>\n",
              "      <td>...</td>\n",
              "      <td>...</td>\n",
              "      <td>...</td>\n",
              "      <td>...</td>\n",
              "      <td>...</td>\n",
              "      <td>...</td>\n",
              "      <td>...</td>\n",
              "      <td>...</td>\n",
              "      <td>...</td>\n",
              "      <td>...</td>\n",
              "      <td>...</td>\n",
              "      <td>...</td>\n",
              "      <td>...</td>\n",
              "      <td>...</td>\n",
              "      <td>...</td>\n",
              "      <td>...</td>\n",
              "      <td>...</td>\n",
              "      <td>...</td>\n",
              "      <td>...</td>\n",
              "      <td>...</td>\n",
              "    </tr>\n",
              "    <tr>\n",
              "      <th>29994</th>\n",
              "      <td>80000</td>\n",
              "      <td>1</td>\n",
              "      <td>2</td>\n",
              "      <td>2</td>\n",
              "      <td>34</td>\n",
              "      <td>2</td>\n",
              "      <td>2</td>\n",
              "      <td>2</td>\n",
              "      <td>2</td>\n",
              "      <td>2</td>\n",
              "      <td>...</td>\n",
              "      <td>77708</td>\n",
              "      <td>79384</td>\n",
              "      <td>77519</td>\n",
              "      <td>82607</td>\n",
              "      <td>7000</td>\n",
              "      <td>3500</td>\n",
              "      <td>0</td>\n",
              "      <td>7000</td>\n",
              "      <td>0</td>\n",
              "      <td>4000</td>\n",
              "    </tr>\n",
              "    <tr>\n",
              "      <th>29995</th>\n",
              "      <td>220000</td>\n",
              "      <td>1</td>\n",
              "      <td>3</td>\n",
              "      <td>1</td>\n",
              "      <td>39</td>\n",
              "      <td>0</td>\n",
              "      <td>0</td>\n",
              "      <td>0</td>\n",
              "      <td>0</td>\n",
              "      <td>0</td>\n",
              "      <td>...</td>\n",
              "      <td>192815</td>\n",
              "      <td>208365</td>\n",
              "      <td>88004</td>\n",
              "      <td>31237</td>\n",
              "      <td>8500</td>\n",
              "      <td>20000</td>\n",
              "      <td>5003</td>\n",
              "      <td>3047</td>\n",
              "      <td>5000</td>\n",
              "      <td>1000</td>\n",
              "    </tr>\n",
              "    <tr>\n",
              "      <th>29996</th>\n",
              "      <td>150000</td>\n",
              "      <td>1</td>\n",
              "      <td>3</td>\n",
              "      <td>2</td>\n",
              "      <td>43</td>\n",
              "      <td>-1</td>\n",
              "      <td>-1</td>\n",
              "      <td>-1</td>\n",
              "      <td>-1</td>\n",
              "      <td>0</td>\n",
              "      <td>...</td>\n",
              "      <td>1828</td>\n",
              "      <td>3502</td>\n",
              "      <td>8979</td>\n",
              "      <td>5190</td>\n",
              "      <td>1837</td>\n",
              "      <td>3526</td>\n",
              "      <td>8998</td>\n",
              "      <td>129</td>\n",
              "      <td>0</td>\n",
              "      <td>0</td>\n",
              "    </tr>\n",
              "    <tr>\n",
              "      <th>29997</th>\n",
              "      <td>30000</td>\n",
              "      <td>1</td>\n",
              "      <td>2</td>\n",
              "      <td>2</td>\n",
              "      <td>37</td>\n",
              "      <td>4</td>\n",
              "      <td>3</td>\n",
              "      <td>2</td>\n",
              "      <td>-1</td>\n",
              "      <td>0</td>\n",
              "      <td>...</td>\n",
              "      <td>3356</td>\n",
              "      <td>2758</td>\n",
              "      <td>20878</td>\n",
              "      <td>20582</td>\n",
              "      <td>0</td>\n",
              "      <td>0</td>\n",
              "      <td>22000</td>\n",
              "      <td>4200</td>\n",
              "      <td>2000</td>\n",
              "      <td>3100</td>\n",
              "    </tr>\n",
              "    <tr>\n",
              "      <th>29999</th>\n",
              "      <td>50000</td>\n",
              "      <td>1</td>\n",
              "      <td>2</td>\n",
              "      <td>1</td>\n",
              "      <td>46</td>\n",
              "      <td>0</td>\n",
              "      <td>0</td>\n",
              "      <td>0</td>\n",
              "      <td>0</td>\n",
              "      <td>0</td>\n",
              "      <td>...</td>\n",
              "      <td>48905</td>\n",
              "      <td>49764</td>\n",
              "      <td>36535</td>\n",
              "      <td>32428</td>\n",
              "      <td>2078</td>\n",
              "      <td>1800</td>\n",
              "      <td>1430</td>\n",
              "      <td>1000</td>\n",
              "      <td>1000</td>\n",
              "      <td>1000</td>\n",
              "    </tr>\n",
              "  </tbody>\n",
              "</table>\n",
              "<p>24979 rows × 22 columns</p>\n",
              "</div>"
            ],
            "text/plain": [
              "       LIMIT_BAL  SEX  EDUCATION  MARRIAGE  AGE  PAY_0  PAY_2  PAY_3  PAY_4  \\\n",
              "0          20000    2          2         1   24      2      2     -1     -1   \n",
              "1         120000    2          2         2   26     -1      2      0      0   \n",
              "2          90000    2          2         2   34      0      0      0      0   \n",
              "3          50000    2          2         1   37      0      0      0      0   \n",
              "4          50000    1          2         1   57     -1      0     -1      0   \n",
              "...          ...  ...        ...       ...  ...    ...    ...    ...    ...   \n",
              "29994      80000    1          2         2   34      2      2      2      2   \n",
              "29995     220000    1          3         1   39      0      0      0      0   \n",
              "29996     150000    1          3         2   43     -1     -1     -1     -1   \n",
              "29997      30000    1          2         2   37      4      3      2     -1   \n",
              "29999      50000    1          2         1   46      0      0      0      0   \n",
              "\n",
              "       PAY_5  ...  BILL_AMT2  BILL_AMT3  BILL_AMT4  BILL_AMT5  PAY_AMT1  \\\n",
              "0         -2  ...       3102        689          0          0         0   \n",
              "1          0  ...       1725       2682       3272       3455         0   \n",
              "2          0  ...      14027      13559      14331      14948      1518   \n",
              "3          0  ...      48233      49291      28314      28959      2000   \n",
              "4          0  ...       5670      35835      20940      19146      2000   \n",
              "...      ...  ...        ...        ...        ...        ...       ...   \n",
              "29994      2  ...      77708      79384      77519      82607      7000   \n",
              "29995      0  ...     192815     208365      88004      31237      8500   \n",
              "29996      0  ...       1828       3502       8979       5190      1837   \n",
              "29997      0  ...       3356       2758      20878      20582         0   \n",
              "29999      0  ...      48905      49764      36535      32428      2078   \n",
              "\n",
              "       PAY_AMT2  PAY_AMT3  PAY_AMT4  PAY_AMT5  PAY_AMT6  \n",
              "0           689         0         0         0         0  \n",
              "1          1000      1000      1000         0      2000  \n",
              "2          1500      1000      1000      1000      5000  \n",
              "3          2019      1200      1100      1069      1000  \n",
              "4         36681     10000      9000       689       679  \n",
              "...         ...       ...       ...       ...       ...  \n",
              "29994      3500         0      7000         0      4000  \n",
              "29995     20000      5003      3047      5000      1000  \n",
              "29996      3526      8998       129         0         0  \n",
              "29997         0     22000      4200      2000      3100  \n",
              "29999      1800      1430      1000      1000      1000  \n",
              "\n",
              "[24979 rows x 22 columns]"
            ]
          },
          "execution_count": 274,
          "metadata": {},
          "output_type": "execute_result"
        }
      ],
      "source": [
        "X1"
      ]
    },
    {
      "cell_type": "markdown",
      "metadata": {
        "id": "WQg5EQlLpPNV"
      },
      "source": [
        "## Modeling \n",
        "\n"
      ]
    },
    {
      "cell_type": "code",
      "execution_count": null,
      "metadata": {
        "id": "aUR3MtP6pPNW"
      },
      "outputs": [],
      "source": [
        "from sklearn.model_selection import train_test_split"
      ]
    },
    {
      "cell_type": "code",
      "execution_count": null,
      "metadata": {
        "id": "Pa4xaTOXpPNW"
      },
      "outputs": [],
      "source": [
        "#Split X and y into training and test set in 70,30 \n",
        "from sklearn.model_selection import train_test_split\n",
        "X_train, X_test, y_train, y_test = train_test_split(X1, Y1,test_size=0.3, random_state=0)"
      ]
    },
    {
      "cell_type": "code",
      "execution_count": null,
      "metadata": {
        "id": "mfvWepNrpPNW"
      },
      "outputs": [],
      "source": [
        "from sklearn.model_selection import train_test_split\n",
        "from sklearn.model_selection import cross_val_score\n",
        "from sklearn.linear_model import LogisticRegression\n",
        "from sklearn.tree import DecisionTreeClassifier\n",
        "from sklearn.svm import SVC\n",
        "from sklearn.ensemble import RandomForestClassifier\n",
        "from sklearn.datasets import make_classification\n",
        "from sklearn.linear_model import LogisticRegression\n",
        "from sklearn.model_selection import train_test_split\n",
        "from sklearn.metrics import roc_curve\n",
        "from sklearn.metrics import roc_auc_score\n",
        "from matplotlib import pyplot\n",
        "from sklearn.neighbors import KNeighborsClassifier\n",
        "from sklearn.neural_network import MLPClassifier"
      ]
    },
    {
      "cell_type": "markdown",
      "metadata": {
        "id": "DwTklo7WpPNW"
      },
      "source": [
        "## Logistic Regression"
      ]
    },
    {
      "cell_type": "code",
      "execution_count": null,
      "metadata": {
        "id": "JN7m7mv-pPNW",
        "outputId": "9715e616-bf4e-463d-feee-37ea628c9949"
      },
      "outputs": [
        {
          "name": "stderr",
          "output_type": "stream",
          "text": [
            "C:\\Users\\miral\\anaconda3\\lib\\site-packages\\sklearn\\linear_model\\_logistic.py:763: ConvergenceWarning: lbfgs failed to converge (status=1):\n",
            "STOP: TOTAL NO. of ITERATIONS REACHED LIMIT.\n",
            "\n",
            "Increase the number of iterations (max_iter) or scale the data as shown in:\n",
            "    https://scikit-learn.org/stable/modules/preprocessing.html\n",
            "Please also refer to the documentation for alternative solver options:\n",
            "    https://scikit-learn.org/stable/modules/linear_model.html#logistic-regression\n",
            "  n_iter_i = _check_optimize_result(\n"
          ]
        }
      ],
      "source": [
        "ns_probs = [0 for _ in range(len(y_test))]\n",
        "# fit a model\n",
        "LRmodel = LogisticRegression()\n",
        "LRmodel.fit(X_train, y_train)\n",
        "# predict probabilities\n",
        "lr_probs = LRmodel.predict_proba(X_test)\n",
        "# keep probabilities for the positive outcome only\n",
        "lr_probs = lr_probs[:, 1]\n",
        "# calculate scores\n",
        "ns_auc = roc_auc_score(y_test, ns_probs)\n",
        "lr_auc = roc_auc_score(y_test, lr_probs)\n",
        "# summarize scores\n",
        "\n",
        "# calculate roc curves\n",
        "ns_fpr, ns_tpr, _ = roc_curve(y_test, ns_probs)\n",
        "lr_fpr, lr_tpr, _ = roc_curve(y_test, lr_probs)\n"
      ]
    },
    {
      "cell_type": "code",
      "execution_count": null,
      "metadata": {
        "id": "b5JPH72npPNW",
        "outputId": "9cb318f6-2d02-4091-bfdc-1d98ba7ca6d1"
      },
      "outputs": [
        {
          "name": "stderr",
          "output_type": "stream",
          "text": [
            "C:\\Users\\miral\\anaconda3\\lib\\site-packages\\sklearn\\linear_model\\_logistic.py:763: ConvergenceWarning: lbfgs failed to converge (status=1):\n",
            "STOP: TOTAL NO. of ITERATIONS REACHED LIMIT.\n",
            "\n",
            "Increase the number of iterations (max_iter) or scale the data as shown in:\n",
            "    https://scikit-learn.org/stable/modules/preprocessing.html\n",
            "Please also refer to the documentation for alternative solver options:\n",
            "    https://scikit-learn.org/stable/modules/linear_model.html#logistic-regression\n",
            "  n_iter_i = _check_optimize_result(\n",
            "C:\\Users\\miral\\anaconda3\\lib\\site-packages\\sklearn\\linear_model\\_logistic.py:763: ConvergenceWarning: lbfgs failed to converge (status=1):\n",
            "STOP: TOTAL NO. of ITERATIONS REACHED LIMIT.\n",
            "\n",
            "Increase the number of iterations (max_iter) or scale the data as shown in:\n",
            "    https://scikit-learn.org/stable/modules/preprocessing.html\n",
            "Please also refer to the documentation for alternative solver options:\n",
            "    https://scikit-learn.org/stable/modules/linear_model.html#logistic-regression\n",
            "  n_iter_i = _check_optimize_result(\n",
            "C:\\Users\\miral\\anaconda3\\lib\\site-packages\\sklearn\\linear_model\\_logistic.py:763: ConvergenceWarning: lbfgs failed to converge (status=1):\n",
            "STOP: TOTAL NO. of ITERATIONS REACHED LIMIT.\n",
            "\n",
            "Increase the number of iterations (max_iter) or scale the data as shown in:\n",
            "    https://scikit-learn.org/stable/modules/preprocessing.html\n",
            "Please also refer to the documentation for alternative solver options:\n",
            "    https://scikit-learn.org/stable/modules/linear_model.html#logistic-regression\n",
            "  n_iter_i = _check_optimize_result(\n",
            "C:\\Users\\miral\\anaconda3\\lib\\site-packages\\sklearn\\linear_model\\_logistic.py:763: ConvergenceWarning: lbfgs failed to converge (status=1):\n",
            "STOP: TOTAL NO. of ITERATIONS REACHED LIMIT.\n",
            "\n",
            "Increase the number of iterations (max_iter) or scale the data as shown in:\n",
            "    https://scikit-learn.org/stable/modules/preprocessing.html\n",
            "Please also refer to the documentation for alternative solver options:\n",
            "    https://scikit-learn.org/stable/modules/linear_model.html#logistic-regression\n",
            "  n_iter_i = _check_optimize_result(\n",
            "C:\\Users\\miral\\anaconda3\\lib\\site-packages\\sklearn\\linear_model\\_logistic.py:763: ConvergenceWarning: lbfgs failed to converge (status=1):\n",
            "STOP: TOTAL NO. of ITERATIONS REACHED LIMIT.\n",
            "\n",
            "Increase the number of iterations (max_iter) or scale the data as shown in:\n",
            "    https://scikit-learn.org/stable/modules/preprocessing.html\n",
            "Please also refer to the documentation for alternative solver options:\n",
            "    https://scikit-learn.org/stable/modules/linear_model.html#logistic-regression\n",
            "  n_iter_i = _check_optimize_result(\n"
          ]
        }
      ],
      "source": [
        "l_scores = cross_val_score(LRmodel, X_train, y_train)\n",
        "l_scores\n",
        "y_predLR=LRmodel.predict(X_test)"
      ]
    },
    {
      "cell_type": "code",
      "execution_count": null,
      "metadata": {
        "id": "dCJsqUiEpPNX",
        "outputId": "8cf8a48d-427c-4424-f6fa-3073f77e7838"
      },
      "outputs": [
        {
          "data": {
            "image/png": "[encoded data removed]",
            "text/plain": [
              "<Figure size 432x288 with 1 Axes>"
            ]
          },
          "metadata": {
            "needs_background": "light"
          },
          "output_type": "display_data"
        }
      ],
      "source": [
        "# plot the roc curve for the model\n",
        "pyplot.plot(ns_fpr, ns_tpr, color= \"green\", linestyle='--', label='No Skill')\n",
        "pyplot.plot(lr_fpr, lr_tpr,color=\"red\", marker='.', label='Logistic')\n",
        "# axis labels\n",
        "pyplot.xlabel('False Positive Rate')\n",
        "pyplot.ylabel('True Positive Rate')\n",
        "# show the legend\n",
        "pyplot.legend()\n",
        "# show the plot\n",
        "pyplot.show()"
      ]
    },
    {
      "cell_type": "code",
      "execution_count": null,
      "metadata": {
        "id": "DYZG9HvLpPNX"
      },
      "outputs": [],
      "source": [
        "s1=np.average(l_scores)"
      ]
    },
    {
      "cell_type": "code",
      "execution_count": null,
      "metadata": {
        "id": "QzoVmB9KpPNX"
      },
      "outputs": [],
      "source": [
        "error_rate_LR= 1- s1\n"
      ]
    },
    {
      "cell_type": "code",
      "execution_count": null,
      "metadata": {
        "id": "uPVe1Zk2pPNX",
        "outputId": "f7b800c1-fd77-4466-d4b8-174b36d0c702"
      },
      "outputs": [
        {
          "name": "stdout",
          "output_type": "stream",
          "text": [
            "No Skill: ROC AUC=0.500\n",
            "Logistic: ROC AUC=0.651\n",
            "Score: 0.7648269945667716\n",
            "Error rate: 0.2351730054332284\n"
          ]
        }
      ],
      "source": [
        "print('No Skill: ROC AUC=%.3f' % (ns_auc))\n",
        "print('Logistic: ROC AUC=%.3f' % (lr_auc))\n",
        "print('Score:',s1)\n",
        "print('Error rate:',error_rate_LR)"
      ]
    },
    {
      "cell_type": "markdown",
      "metadata": {
        "id": "lxwUtq6QpPNX"
      },
      "source": [
        "## Decision Tree"
      ]
    },
    {
      "cell_type": "code",
      "execution_count": null,
      "metadata": {
        "id": "dUTF9-D_pPNX",
        "outputId": "61044c37-3973-4cfe-db58-511e6a5c170b"
      },
      "outputs": [
        {
          "data": {
            "image/png": "[encoded data removed]",
            "text/plain": [
              "<Figure size 432x288 with 1 Axes>"
            ]
          },
          "metadata": {
            "needs_background": "light"
          },
          "output_type": "display_data"
        }
      ],
      "source": [
        "ns_probs = [0 for _ in range(len(y_test))]\n",
        "# fit a model\n",
        "DTmodel = DecisionTreeClassifier()\n",
        "DTmodel.fit(X_train, y_train)\n",
        "# predict probabilities\n",
        "DT_probs = DTmodel.predict_proba(X_test)\n",
        "# keep probabilities for the positive outcome only\n",
        "DT_probs = DT_probs[:, 1]\n",
        "# calculate scores\n",
        "ns_auc = roc_auc_score(y_test, ns_probs)\n",
        "DT_auc = roc_auc_score(y_test, DT_probs)\n",
        "# summarize scores\n",
        "\n",
        "# calculate roc curves\n",
        "ns_fpr, ns_tpr, _ = roc_curve(y_test, ns_probs)\n",
        "DT_fpr, DT_tpr, _ = roc_curve(y_test, DT_probs)\n",
        "# plot the roc curve for the model\n",
        "pyplot.plot(ns_fpr, ns_tpr, color=\"red\" ,linestyle='--', label='No Skill')\n",
        "pyplot.plot(DT_fpr, DT_tpr, color=\"green\", marker='.', label='DesionTree')\n",
        "# axis labels\n",
        "pyplot.xlabel('False Positive Rate')\n",
        "pyplot.ylabel('True Positive Rate')\n",
        "# show the legend\n",
        "pyplot.legend()\n",
        "# show the plot\n",
        "pyplot.show()"
      ]
    },
    {
      "cell_type": "code",
      "execution_count": null,
      "metadata": {
        "id": "Ib5e2wZvpPNY"
      },
      "outputs": [],
      "source": [
        "y_predDT=DTmodel.predict(X_test)"
      ]
    },
    {
      "cell_type": "code",
      "execution_count": null,
      "metadata": {
        "id": "t8AC0NiApPNY",
        "outputId": "18abbbe0-7f7f-4ec4-f707-d74e8fc72057"
      },
      "outputs": [
        {
          "data": {
            "text/plain": [
              "array([0.72233343, 0.70174435, 0.70546182, 0.71432657, 0.70860738])"
            ]
          },
          "execution_count": 285,
          "metadata": {},
          "output_type": "execute_result"
        }
      ],
      "source": [
        "d_scores = cross_val_score(DecisionTreeClassifier(), X_train, y_train)\n",
        "d_scores"
      ]
    },
    {
      "cell_type": "code",
      "execution_count": null,
      "metadata": {
        "id": "xf1RfJQtpPNY"
      },
      "outputs": [],
      "source": [
        "sd=np.average(d_scores)"
      ]
    },
    {
      "cell_type": "code",
      "execution_count": null,
      "metadata": {
        "id": "Lan3mMBopPNY"
      },
      "outputs": [],
      "source": [
        "error_rate_DT=1-sd"
      ]
    },
    {
      "cell_type": "code",
      "execution_count": null,
      "metadata": {
        "id": "pR3wZOA0pPNY",
        "outputId": "6adbd852-6e10-4ddc-b8f4-c8ac01f527fa"
      },
      "outputs": [
        {
          "name": "stdout",
          "output_type": "stream",
          "text": [
            "No Skill: ROC AUC=0.500\n",
            "DecisionTree: ROC AUC=0.619\n",
            "Scores:  [0.72233343 0.70174435 0.70546182 0.71432657 0.70860738]\n",
            "Error Rate: 0.2895052902487848\n"
          ]
        }
      ],
      "source": [
        "print('No Skill: ROC AUC=%.3f' % (ns_auc))\n",
        "print('DecisionTree: ROC AUC=%.3f' % (DT_auc))\n",
        "print('Scores: ',d_scores)\n",
        "print('Error Rate:',error_rate_DT)"
      ]
    },
    {
      "cell_type": "markdown",
      "metadata": {
        "id": "8_WMcc_MpPNZ"
      },
      "source": [
        "## SVM"
      ]
    },
    {
      "cell_type": "code",
      "execution_count": null,
      "metadata": {
        "id": "MElwWKjipPNZ"
      },
      "outputs": [],
      "source": [
        "s_scores = cross_val_score(SVC(), X_train, y_train)\n",
        "SVMmodel=SVC()\n",
        "SVMmodel.fit(X_train, y_train)\n",
        "y_predSVM=SVMmodel.predict(X_test)"
      ]
    },
    {
      "cell_type": "code",
      "execution_count": null,
      "metadata": {
        "id": "fBXzz6oRpPNZ"
      },
      "outputs": [],
      "source": [
        "s2=np.average(s_scores)\n"
      ]
    },
    {
      "cell_type": "code",
      "execution_count": null,
      "metadata": {
        "id": "VVFQ8xULpPNZ"
      },
      "outputs": [],
      "source": [
        "error_rate_SVM=1-s2"
      ]
    },
    {
      "cell_type": "code",
      "execution_count": null,
      "metadata": {
        "id": "yccYLhXDpPNZ",
        "outputId": "85fd665b-dad7-457c-c748-d5779f1328f7"
      },
      "outputs": [
        {
          "name": "stdout",
          "output_type": "stream",
          "text": [
            "Scores:  [0.76494138 0.76494138 0.76494138 0.76494138 0.76465542]\n",
            "Error Rate:  0.2351158135544752\n"
          ]
        }
      ],
      "source": [
        "print('Scores: ',s_scores)\n",
        "print('Error Rate: ',error_rate_SVM)"
      ]
    },
    {
      "cell_type": "markdown",
      "metadata": {
        "id": "4XlSIDCHpPNZ"
      },
      "source": [
        "## Neighbor K-nearest classifiers (KNN)"
      ]
    },
    {
      "cell_type": "code",
      "execution_count": null,
      "metadata": {
        "id": "ETNXZXCDpPNZ"
      },
      "outputs": [],
      "source": [
        "from sklearn.neighbors import KNeighborsClassifier"
      ]
    },
    {
      "cell_type": "code",
      "execution_count": null,
      "metadata": {
        "id": "z8DdxMe3pPNa",
        "outputId": "0bcd6a06-f806-4e61-8423-ad61e22c8fde"
      },
      "outputs": [
        {
          "data": {
            "image/png": "[encoded data removed]",
            "text/plain": [
              "<Figure size 864x432 with 1 Axes>"
            ]
          },
          "metadata": {
            "needs_background": "light"
          },
          "output_type": "display_data"
        }
      ],
      "source": [
        "error = []\n",
        "error1 = []\n",
        "# Calculer l'erreur pour k entre 1 et 25 \n",
        "#Pour chaque itération, l'erreur moyenne pour les valeurs prédites \n",
        "#de l'ensemble de test est calculée et sauvegardée ds la liste Erreur.\n",
        "# Tester k de 1 à 25 et la distance Manhattan ,euclidean\n",
        "for i in range(1, 25):\n",
        "    knn = KNeighborsClassifier(i,metric='manhattan')\n",
        "    knn_model = knn.fit(X_train, y_train)\n",
        "    pred_i = knn_model.predict(X_test)\n",
        "    error.append(np.mean(pred_i != y_test))\n",
        "     \n",
        "    knn1 = KNeighborsClassifier(i,metric='euclidean')\n",
        "    knn_model1 = knn1.fit(X_train, y_train)\n",
        "    pred_i1 = knn_model1.predict(X_test)\n",
        "    error1.append(np.mean(pred_i1 != y_test))\n",
        "plt.figure(figsize=(12, 6))\n",
        "plt.plot(range(1, 25), error, color='red', linestyle='dashed', marker='o',\n",
        "         markerfacecolor='blue', markersize=10)\n",
        "plt.plot(range(1, 25), error1, color='green', linestyle='dashed', marker='o',\n",
        "         markerfacecolor='blue', markersize=10)\n",
        "\n",
        "red_patch = mpatches.Patch(color='red',linestyle='dashed',label='manhattan')\n",
        "green_patch = mpatches.Patch(color='green',linestyle='dashed', label='euclidean')\n",
        "\n",
        "plt.legend(handles=[green_patch,red_patch])\n",
        "\n",
        "plt.title('Taux Erreur pour les differentes valeurs de k')\n",
        "plt.xlabel('K ')\n",
        "plt.ylabel('Erreur')\n",
        "plt.savefig('figureEreur.png', dpi = 400)\n"
      ]
    },
    {
      "cell_type": "code",
      "execution_count": null,
      "metadata": {
        "id": "StvzTey4pPNa",
        "outputId": "59dd5387-a838-4866-fe28-31fb21c8f826"
      },
      "outputs": [
        {
          "name": "stdout",
          "output_type": "stream",
          "text": [
            "0.2251134240725914\n",
            "0.22711502535361622\n",
            "23\n",
            "[0.3087803576194289, 0.2448625567120363, 0.27395249532959703, 0.23872431278356018, 0.25353616226314385, 0.23725647184414198, 0.2448625567120363, 0.23165198825727248, 0.24005871363757672, 0.23151854817187084, 0.23352014945289565, 0.2263143848412063, 0.23178542834267413, 0.2268481451828129, 0.2283159861222311, 0.226047504670403, 0.2283159861222311, 0.2263143848412063, 0.22884974646383774, 0.22538030424339472, 0.22618094475580464, 0.22524686415799305, 0.22564718441419804, 0.2251134240725914]\n"
          ]
        }
      ],
      "source": [
        "print(min(error))\n",
        "print(min(error1))\n",
        "print(error.index(min(error)))\n",
        "print(error)"
      ]
    },
    {
      "cell_type": "markdown",
      "metadata": {
        "id": "zNpOPwfwpPNa"
      },
      "source": [
        "####  Manhattan Distance"
      ]
    },
    {
      "cell_type": "code",
      "execution_count": null,
      "metadata": {
        "id": "I_zl3ooYpPNa"
      },
      "outputs": [],
      "source": [
        "knn = KNeighborsClassifier(23,metric='manhattan')\n",
        "knn_model = knn.fit(X_train, y_train)\n",
        "y_predKNN = knn_model.predict(X_test)"
      ]
    },
    {
      "cell_type": "code",
      "execution_count": null,
      "metadata": {
        "id": "HoqbeojHpPNa",
        "outputId": "32a4fbcb-116a-4988-d5b6-af5cf0cfe2ef"
      },
      "outputs": [
        {
          "name": "stdout",
          "output_type": "stream",
          "text": [
            "Accuracy of K-NN classifier on training set: 0.7735\n",
            "Accuracy of K-NN classifier on test set: 0.7744\n"
          ]
        }
      ],
      "source": [
        "print('Accuracy of K-NN classifier on training set: {:.4f}'\n",
        "     .format(knn_model.score(X_train, y_train)))\n",
        "print('Accuracy of K-NN classifier on test set: {:.4f}'\n",
        "     .format(knn.score(X_test, y_test)))"
      ]
    },
    {
      "cell_type": "code",
      "execution_count": null,
      "metadata": {
        "id": "YVlybXCbpPNb"
      },
      "outputs": [],
      "source": [
        "knn_scores=knn.score(X_test, y_test)\n",
        "s4=np.average(knn_scores)\n",
        "error_rate_KNN=1-s4"
      ]
    },
    {
      "cell_type": "code",
      "execution_count": null,
      "metadata": {
        "id": "MDAxjjCopPNb",
        "outputId": "023bb3df-c277-483e-ee8d-52207c3366fd"
      },
      "outputs": [
        {
          "name": "stdout",
          "output_type": "stream",
          "text": [
            "No Skill: ROC AUC=0.500\n",
            "KNeighborsClassifier: ROC AUC=0.647\n",
            "Scores:  0.7743528155858019\n",
            "Error Rate:  0.22564718441419807\n"
          ]
        }
      ],
      "source": [
        "print('No Skill: ROC AUC=%.3f' % (ns_auc))\n",
        "print('KNeighborsClassifier: ROC AUC=%.3f' % (KNN_auc))\n",
        "print('Scores: ',knn_scores)\n",
        "print('Error Rate: ',error_rate_KNN)"
      ]
    },
    {
      "cell_type": "markdown",
      "metadata": {
        "id": "Yt8FlVAIpPNb"
      },
      "source": [
        "#### Euclidean Distance"
      ]
    },
    {
      "cell_type": "code",
      "execution_count": null,
      "metadata": {
        "id": "ooFGploApPNb"
      },
      "outputs": [],
      "source": [
        "knn = KNeighborsClassifier(23,metric='euclidean')\n",
        "knn_model = knn.fit(X_train, y_train)\n"
      ]
    },
    {
      "cell_type": "code",
      "execution_count": null,
      "metadata": {
        "id": "S214UcSfpPNb",
        "outputId": "9e59387c-128d-4147-86b0-2af0474c8001"
      },
      "outputs": [
        {
          "name": "stdout",
          "output_type": "stream",
          "text": [
            "Accuracy of K-NN classifier on training set: 0.7738\n",
            "Accuracy of K-NN classifier on test set: 0.7722\n"
          ]
        }
      ],
      "source": [
        "print('Accuracy of K-NN classifier on training set: {:.4f}'\n",
        "     .format(knn_model.score(X_train, y_train)))\n",
        "print('Accuracy of K-NN classifier on test set: {:.4f}'\n",
        "     .format(knn.score(X_test, y_test)))"
      ]
    },
    {
      "cell_type": "code",
      "execution_count": null,
      "metadata": {
        "scrolled": true,
        "id": "JGvar8MIpPNb",
        "outputId": "94c607e9-bee4-4602-c4c2-d293bd723498"
      },
      "outputs": [
        {
          "data": {
            "image/png": "[encoded data removed]",
            "text/plain": [
              "<Figure size 432x288 with 1 Axes>"
            ]
          },
          "metadata": {
            "needs_background": "light"
          },
          "output_type": "display_data"
        }
      ],
      "source": [
        "ns_probs = [0 for _ in range(len(y_test))]\n",
        "# fit a model\n",
        "#KNNmodel =KNeighborsClassifier()\n",
        "#KNNmodel.fit(X_train, y_train)\n",
        "# predict probabilities\n",
        "KNN_probs = knn_model.predict_proba(X_test) #choix du model:le modele du manhattan car son accuracy est plus élevée que celle du Euclidian\n",
        "# keep probabilities for the positive outcome only\n",
        "KNN_probs = KNN_probs[:, 1]\n",
        "# calculate scores\n",
        "ns_auc = roc_auc_score(y_test, ns_probs)\n",
        "KNN_auc = roc_auc_score(y_test, KNN_probs)\n",
        "# summarize scores\n",
        "\n",
        "# calculate roc curves\n",
        "ns_fpr, ns_tpr, _ = roc_curve(y_test, ns_probs)\n",
        "KNN_fpr, KNN_tpr, _ = roc_curve(y_test, KNN_probs)\n",
        "# plot the roc curve for the model\n",
        "pyplot.plot(ns_fpr, ns_tpr, color= \"green\", linestyle='--', label='No Skill')\n",
        "pyplot.plot(KNN_fpr, KNN_tpr,color=\"red\", marker='.', label='KNeighborsClassifier')\n",
        "# axis labels\n",
        "pyplot.xlabel('False Positive Rate')\n",
        "pyplot.ylabel('True Positive Rate')\n",
        "# show the legend\n",
        "pyplot.legend()\n",
        "# show the plot\n",
        "pyplot.show()"
      ]
    },
    {
      "cell_type": "markdown",
      "metadata": {
        "id": "zm5CtQ2EpPNc"
      },
      "source": [
        "## Naïve Bayesian classifier (NB)"
      ]
    },
    {
      "cell_type": "code",
      "execution_count": null,
      "metadata": {
        "id": "01pbIpRypPNc",
        "outputId": "1d3af183-04e6-4762-8829-e4467eec2ed9"
      },
      "outputs": [
        {
          "data": {
            "text/plain": [
              "GaussianNB()"
            ]
          },
          "execution_count": 308,
          "metadata": {},
          "output_type": "execute_result"
        }
      ],
      "source": [
        "from sklearn.naive_bayes import GaussianNB\n",
        "\n",
        "\n",
        "# instantiate the model\n",
        "gnb = GaussianNB()\n",
        "\n",
        "\n",
        "# fit the model\n",
        "gnb.fit(X_train, y_train)"
      ]
    },
    {
      "cell_type": "code",
      "execution_count": null,
      "metadata": {
        "id": "HGWzTdarpPNc",
        "outputId": "807c4276-4cc6-4167-8f2a-2a9925ed8646"
      },
      "outputs": [
        {
          "data": {
            "image/png": "[encoded data removed]",
            "text/plain": [
              "<Figure size 432x288 with 1 Axes>"
            ]
          },
          "metadata": {
            "needs_background": "light"
          },
          "output_type": "display_data"
        }
      ],
      "source": [
        "ns_probs = [0 for _ in range(len(y_test))]\n",
        "# fit a model\n",
        "NBmodel =GaussianNB()\n",
        "NBmodel.fit(X_train, y_train)\n",
        "# predict probabilities\n",
        "NB_probs = NBmodel.predict_proba(X_test)\n",
        "# keep probabilities for the positive outcome only\n",
        "NB_probs = NB_probs[:, 1]\n",
        "# calculate scores\n",
        "ns_auc = roc_auc_score(y_test, ns_probs)\n",
        "NB_auc = roc_auc_score(y_test, NB_probs)\n",
        "# summarize scores\n",
        "\n",
        "# calculate roc curves\n",
        "ns_fpr, ns_tpr, _ = roc_curve(y_test, ns_probs)\n",
        "NB_fpr, NB_tpr, _ = roc_curve(y_test, NB_probs)\n",
        "# plot the roc curve for the model\n",
        "pyplot.plot(ns_fpr, ns_tpr, color= \"green\", linestyle='--', label='No Skill')\n",
        "pyplot.plot(NB_fpr, NB_tpr,color=\"blue\", marker='.', label='GaussianNB')\n",
        "# axis labels\n",
        "pyplot.xlabel('False Positive Rate')\n",
        "pyplot.ylabel('True Positive Rate')\n",
        "# show the legend\n",
        "pyplot.legend()\n",
        "# show the plot\n",
        "pyplot.show()"
      ]
    },
    {
      "cell_type": "code",
      "execution_count": null,
      "metadata": {
        "id": "24uFgQ6tpPNc"
      },
      "outputs": [],
      "source": [
        "y_pred = gnb.predict(X_test)\n",
        "y_predNB=NBmodel.predict(y_train)"
      ]
    },
    {
      "cell_type": "code",
      "execution_count": null,
      "metadata": {
        "id": "5WnEVIMBpPNc",
        "outputId": "55265b60-45e2-4583-d136-c1e0518b845e"
      },
      "outputs": [
        {
          "name": "stdout",
          "output_type": "stream",
          "text": [
            "Model accuracy score: 0.4167\n"
          ]
        }
      ],
      "source": [
        "from sklearn.metrics import accuracy_score\n",
        "\n",
        "print('Model accuracy score: {0:0.4f}'. format(accuracy_score(y_test, y_predNB)))\n"
      ]
    },
    {
      "cell_type": "code",
      "execution_count": null,
      "metadata": {
        "id": "eeJQhllFpPNd",
        "outputId": "d5cc77e5-da13-4dab-b69b-ae63f2b80488"
      },
      "outputs": [
        {
          "name": "stdout",
          "output_type": "stream",
          "text": [
            "No Skill: ROC AUC=0.500\n",
            "GaussianNB: ROC AUC=0.657\n",
            "Accuracy_score:  0.4167333867093675\n",
            "Error Rate:  0.5832666132906326\n"
          ]
        }
      ],
      "source": [
        "s5=accuracy_score(y_train, y_predNB)\n",
        "error_rate_NB=1-s5\n",
        "print('No Skill: ROC AUC=%.3f' % (ns_auc))\n",
        "print('GaussianNB: ROC AUC=%.3f' % (NB_auc))\n",
        "print('Accuracy_score: ',s5)\n",
        "print('Error Rate: ',error_rate_NB)"
      ]
    },
    {
      "cell_type": "markdown",
      "metadata": {
        "id": "6fQwrBf3pPNd"
      },
      "source": [
        "## Classification trees (CTs)"
      ]
    },
    {
      "cell_type": "code",
      "execution_count": null,
      "metadata": {
        "id": "_nrAf-eipPNd"
      },
      "outputs": [],
      "source": [
        "from sklearn.tree import DecisionTreeClassifier"
      ]
    },
    {
      "cell_type": "code",
      "execution_count": null,
      "metadata": {
        "id": "C25RMsKBpPNd"
      },
      "outputs": [],
      "source": [
        "param_grid = {'criterion': ['gini', 'entropy'],\n",
        "             'max_depth': np.arange(1,10)}"
      ]
    },
    {
      "cell_type": "code",
      "execution_count": null,
      "metadata": {
        "id": "gkmLf_K6pPNd"
      },
      "outputs": [],
      "source": [
        "from sklearn.model_selection import GridSearchCV"
      ]
    },
    {
      "cell_type": "code",
      "execution_count": null,
      "metadata": {
        "id": "FQpayqSBpPNd"
      },
      "outputs": [],
      "source": [
        "grid = GridSearchCV(DecisionTreeClassifier(random_state=1), param_grid=param_grid, cv=5)"
      ]
    },
    {
      "cell_type": "code",
      "execution_count": null,
      "metadata": {
        "id": "Mu-d5ziepPNe",
        "outputId": "adeba429-6378-4396-e607-5a5416d5d7e1"
      },
      "outputs": [
        {
          "data": {
            "text/plain": [
              "GridSearchCV(cv=5, estimator=DecisionTreeClassifier(random_state=1),\n",
              "             param_grid={'criterion': ['gini', 'entropy'],\n",
              "                         'max_depth': array([1, 2, 3, 4, 5, 6, 7, 8, 9])})"
            ]
          },
          "execution_count": 317,
          "metadata": {},
          "output_type": "execute_result"
        }
      ],
      "source": [
        "grid.fit(X_train, y_train)"
      ]
    },
    {
      "cell_type": "code",
      "execution_count": null,
      "metadata": {
        "id": "0isvkEiQpPNe",
        "outputId": "f2751d9a-d389-4426-f746-1e7894cccb39"
      },
      "outputs": [
        {
          "data": {
            "text/plain": [
              "{'criterion': 'gini', 'max_depth': 3}"
            ]
          },
          "execution_count": 318,
          "metadata": {},
          "output_type": "execute_result"
        }
      ],
      "source": [
        "grid.best_params_"
      ]
    },
    {
      "cell_type": "code",
      "execution_count": null,
      "metadata": {
        "id": "dEYXaDLEpPNe"
      },
      "outputs": [],
      "source": [
        "final_model = DecisionTreeClassifier(random_state=1, criterion='gini', max_depth=3)"
      ]
    },
    {
      "cell_type": "code",
      "execution_count": null,
      "metadata": {
        "id": "F2BWh2gzpPNe",
        "outputId": "f049ff74-c962-4d90-9a6b-57a80f64630f"
      },
      "outputs": [
        {
          "data": {
            "text/plain": [
              "DecisionTreeClassifier(max_depth=3, random_state=1)"
            ]
          },
          "execution_count": 349,
          "metadata": {},
          "output_type": "execute_result"
        }
      ],
      "source": [
        "final_model.fit(X_train, y_train)"
      ]
    },
    {
      "cell_type": "code",
      "execution_count": null,
      "metadata": {
        "id": "MHYAgL6bpPNe",
        "outputId": "93337a3f-2287-498e-85a5-5a77183f7ede"
      },
      "outputs": [
        {
          "name": "stdout",
          "output_type": "stream",
          "text": [
            "No Skill: ROC AUC=0.500\n",
            "DecisionTreeClassifier: ROC AUC=0.732\n"
          ]
        },
        {
          "data": {
            "image/png": "[encoded data removed]",
            "text/plain": [
              "<Figure size 432x288 with 1 Axes>"
            ]
          },
          "metadata": {
            "needs_background": "light"
          },
          "output_type": "display_data"
        }
      ],
      "source": [
        "ns_probs = [0 for _ in range(len(y_test))]\n",
        "# fit a model\n",
        "#model =DecisionTreeClassifier()\n",
        "#CTmodel.fit(X_train, y_train)\n",
        "# predict probabilities\n",
        "CT_probs = final_model.predict_proba(X_test)\n",
        "# keep probabilities for the positive outcome only\n",
        "CT_probs = CT_probs[:, 1]\n",
        "# calculate scores\n",
        "ns_auc = roc_auc_score(y_test, ns_probs)\n",
        "CT_auc = roc_auc_score(y_test, CT_probs)\n",
        "# summarize scores\n",
        "print('No Skill: ROC AUC=%.3f' % (ns_auc))\n",
        "print('DecisionTreeClassifier: ROC AUC=%.3f' % (CT_auc))\n",
        "# calculate roc curves\n",
        "ns_fpr, ns_tpr, _ = roc_curve(y_test, ns_probs)\n",
        "CT_fpr, CT_tpr, _ = roc_curve(y_test, CT_probs)\n",
        "# plot the roc curve for the model\n",
        "pyplot.plot(ns_fpr, ns_tpr, color= \"green\", linestyle='--', label='No Skill')\n",
        "pyplot.plot(CT_fpr, CT_tpr,color=\"blue\", marker='.', label='DecisionTreeClassifier')\n",
        "# axis labels\n",
        "pyplot.xlabel('False Positive Rate')\n",
        "pyplot.ylabel('True Positive Rate')\n",
        "# show the legend\n",
        "pyplot.legend()\n",
        "# show the plot\n",
        "pyplot.show()"
      ]
    },
    {
      "cell_type": "code",
      "execution_count": null,
      "metadata": {
        "id": "sT1UwDgRpPNe",
        "outputId": "2516f837-c2a4-481d-82f9-762222a017a5"
      },
      "outputs": [
        {
          "name": "stdout",
          "output_type": "stream",
          "text": [
            "No Skill: ROC AUC=0.500\n",
            "DecisionTreeClassifier: ROC AUC=0.732\n",
            "Score:  0.8089791249642551\n",
            "Error Rate: 0.19102087503574494\n"
          ]
        }
      ],
      "source": [
        "s5=final_model.score(X_train, y_train)\n",
        "y_predCT=final_model.predict(X_test)\n",
        "error_rate_CT=1-s5\n",
        "print('No Skill: ROC AUC=%.3f' % (ns_auc))\n",
        "print('DecisionTreeClassifier: ROC AUC=%.3f' % (CT_auc))\n",
        "print('Score: ' ,s5)\n",
        "print('Error Rate:' ,error_rate_CT)"
      ]
    },
    {
      "cell_type": "markdown",
      "metadata": {
        "id": "Kp3JmKsqpPNf"
      },
      "source": [
        "## Artificial neural networks (ANNs)"
      ]
    },
    {
      "cell_type": "code",
      "execution_count": null,
      "metadata": {
        "id": "MXi4-m8BpPNf"
      },
      "outputs": [],
      "source": [
        "import tensorflow as tf"
      ]
    },
    {
      "cell_type": "code",
      "execution_count": null,
      "metadata": {
        "id": "lG9IhTNDpPNf"
      },
      "outputs": [],
      "source": [
        "#pip install tensorflow"
      ]
    },
    {
      "cell_type": "code",
      "execution_count": null,
      "metadata": {
        "id": "GVkdYYITpPNf",
        "outputId": "622f6485-cfab-4a5a-b6df-b03fdac9c39b"
      },
      "outputs": [
        {
          "data": {
            "image/png": "[encoded data removed]",
            "text/plain": [
              "<Figure size 432x288 with 1 Axes>"
            ]
          },
          "metadata": {
            "needs_background": "light"
          },
          "output_type": "display_data"
        }
      ],
      "source": [
        "ns_probs = [0 for _ in range(len(y_test))]\n",
        "# fit a model\n",
        "ANNmodel = MLPClassifier()\n",
        "ANNmodel.fit(X_train, y_train)\n",
        "# predict probabilities\n",
        "ANN_probs = ANNmodel.predict_proba(X_test)\n",
        "# keep probabilities for the positive outcome only\n",
        "ANN_probs = ANN_probs[:, 1]\n",
        "# calculate scores\n",
        "ns_auc = roc_auc_score(y_test, ns_probs)\n",
        "ANN_auc = roc_auc_score(y_test, ANN_probs)\n",
        "# summarize scores\n",
        "\n",
        "# calculate roc curves\n",
        "ns_fpr, ns_tpr, _ = roc_curve(y_test, ns_probs)\n",
        "ANN_fpr, ANN_tpr, _ = roc_curve(y_test, ANN_probs)\n",
        "# plot the roc curve for the model\n",
        "pyplot.plot(ns_fpr, ns_tpr, color=\"red\" ,linestyle='--', label='No Skill')\n",
        "pyplot.plot(ANN_fpr, ANN_tpr, color=\"green\", marker='.', label='ANN')\n",
        "# axis labels\n",
        "pyplot.xlabel('False Positive Rate')\n",
        "pyplot.ylabel('True Positive Rate')\n",
        "# show the legend\n",
        "pyplot.legend()\n",
        "# show the plot\n",
        "pyplot.show()"
      ]
    },
    {
      "cell_type": "code",
      "execution_count": null,
      "metadata": {
        "id": "gN7J2D7ApPNf"
      },
      "outputs": [],
      "source": [
        "#Initialising ANN\n",
        "ann = tf.keras.models.Sequential()"
      ]
    },
    {
      "cell_type": "code",
      "execution_count": null,
      "metadata": {
        "id": "xeXUPA_3pPNf"
      },
      "outputs": [],
      "source": [
        "#Adding First Hidden Layer\n",
        "ann.add(tf.keras.layers.Dense(units=6,activation=\"relu\"))"
      ]
    },
    {
      "cell_type": "code",
      "execution_count": null,
      "metadata": {
        "id": "NtPxJy1WpPNf"
      },
      "outputs": [],
      "source": [
        " #Adding Second Hidden Layer\n",
        "ann.add(tf.keras.layers.Dense(units=6,activation=\"relu\"))"
      ]
    },
    {
      "cell_type": "code",
      "execution_count": null,
      "metadata": {
        "id": "LD6LnNwapPNg"
      },
      "outputs": [],
      "source": [
        "#Adding Output Layer\n",
        "ann.add(tf.keras.layers.Dense(units=1,activation=\"sigmoid\"))"
      ]
    },
    {
      "cell_type": "code",
      "execution_count": null,
      "metadata": {
        "id": "PDebV-5VpPNg"
      },
      "outputs": [],
      "source": [
        "#Compiling ANN\n",
        "ann.compile(optimizer=\"adam\",loss=\"binary_crossentropy\",metrics=['accuracy'])"
      ]
    },
    {
      "cell_type": "code",
      "execution_count": null,
      "metadata": {
        "id": "SeXqNQmapPNg",
        "outputId": "56d93ce6-2d79-4d29-ff3d-c01c115dc1d6"
      },
      "outputs": [
        {
          "name": "stdout",
          "output_type": "stream",
          "text": [
            "Epoch 1/100\n",
            "547/547 [==============================] - 1s 590us/step - loss: 323.4212 - accuracy: 0.6893\n",
            "Epoch 2/100\n",
            "547/547 [==============================] - 0s 608us/step - loss: 18.6680 - accuracy: 0.7545\n",
            "Epoch 3/100\n",
            "547/547 [==============================] - 0s 756us/step - loss: 3.8527 - accuracy: 0.7641\n",
            "Epoch 4/100\n",
            "547/547 [==============================] - 0s 616us/step - loss: 1.9443 - accuracy: 0.7649\n",
            "Epoch 5/100\n",
            "547/547 [==============================] - 0s 601us/step - loss: 1.2285 - accuracy: 0.7650\n",
            "Epoch 6/100\n",
            "547/547 [==============================] - 0s 627us/step - loss: 0.8405 - accuracy: 0.7649\n",
            "Epoch 7/100\n",
            "547/547 [==============================] - 0s 634us/step - loss: 0.6551 - accuracy: 0.7650\n",
            "Epoch 8/100\n",
            "547/547 [==============================] - 0s 641us/step - loss: 0.6270 - accuracy: 0.7650\n",
            "Epoch 9/100\n",
            "547/547 [==============================] - 0s 694us/step - loss: 0.6038 - accuracy: 0.7650\n",
            "Epoch 10/100\n",
            "547/547 [==============================] - 0s 656us/step - loss: 0.5823 - accuracy: 0.7650\n",
            "Epoch 11/100\n",
            "547/547 [==============================] - 0s 694us/step - loss: 0.7829 - accuracy: 0.7647\n",
            "Epoch 12/100\n",
            "547/547 [==============================] - 0s 628us/step - loss: 0.6487 - accuracy: 0.7649\n",
            "Epoch 13/100\n",
            "547/547 [==============================] - 0s 660us/step - loss: 0.5869 - accuracy: 0.7649\n",
            "Epoch 14/100\n",
            "547/547 [==============================] - 0s 771us/step - loss: 0.5567 - accuracy: 0.7649\n",
            "Epoch 15/100\n",
            "547/547 [==============================] - 0s 601us/step - loss: 0.5596 - accuracy: 0.7649\n",
            "Epoch 16/100\n",
            "547/547 [==============================] - 0s 617us/step - loss: 0.5461 - accuracy: 0.7651\n",
            "Epoch 17/100\n",
            "547/547 [==============================] - 0s 613us/step - loss: 0.5455 - accuracy: 0.7651\n",
            "Epoch 18/100\n",
            "547/547 [==============================] - 0s 609us/step - loss: 0.5451 - accuracy: 0.7651\n",
            "Epoch 19/100\n",
            "547/547 [==============================] - 0s 632us/step - loss: 0.5450 - accuracy: 0.7650\n",
            "Epoch 20/100\n",
            "547/547 [==============================] - 0s 628us/step - loss: 0.5450 - accuracy: 0.7650\n",
            "Epoch 21/100\n",
            "547/547 [==============================] - 0s 618us/step - loss: 0.5450 - accuracy: 0.7650\n",
            "Epoch 22/100\n",
            "547/547 [==============================] - 0s 628us/step - loss: 0.5450 - accuracy: 0.7650\n",
            "Epoch 23/100\n",
            "547/547 [==============================] - 0s 606us/step - loss: 0.5450 - accuracy: 0.7650\n",
            "Epoch 24/100\n",
            "547/547 [==============================] - 0s 605us/step - loss: 0.5450 - accuracy: 0.7650\n",
            "Epoch 25/100\n",
            "547/547 [==============================] - 0s 634us/step - loss: 0.5450 - accuracy: 0.7650\n",
            "Epoch 26/100\n",
            "547/547 [==============================] - 0s 784us/step - loss: 0.5450 - accuracy: 0.7650\n",
            "Epoch 27/100\n",
            "547/547 [==============================] - 0s 612us/step - loss: 0.5450 - accuracy: 0.7650\n",
            "Epoch 28/100\n",
            "547/547 [==============================] - 0s 621us/step - loss: 0.5450 - accuracy: 0.7650\n",
            "Epoch 29/100\n",
            "547/547 [==============================] - 0s 612us/step - loss: 0.5450 - accuracy: 0.7650\n",
            "Epoch 30/100\n",
            "547/547 [==============================] - 0s 719us/step - loss: 0.5450 - accuracy: 0.7650\n",
            "Epoch 31/100\n",
            "547/547 [==============================] - 0s 641us/step - loss: 0.5450 - accuracy: 0.7650\n",
            "Epoch 32/100\n",
            "547/547 [==============================] - 0s 606us/step - loss: 0.5450 - accuracy: 0.7650\n",
            "Epoch 33/100\n",
            "547/547 [==============================] - 0s 590us/step - loss: 0.5450 - accuracy: 0.7650\n",
            "Epoch 34/100\n",
            "547/547 [==============================] - 0s 617us/step - loss: 0.5450 - accuracy: 0.7650\n",
            "Epoch 35/100\n",
            "547/547 [==============================] - 0s 629us/step - loss: 0.5450 - accuracy: 0.7650\n",
            "Epoch 36/100\n",
            "547/547 [==============================] - 0s 595us/step - loss: 0.5450 - accuracy: 0.7650\n",
            "Epoch 37/100\n",
            "547/547 [==============================] - 0s 725us/step - loss: 0.5450 - accuracy: 0.7650\n",
            "Epoch 38/100\n",
            "547/547 [==============================] - 0s 601us/step - loss: 0.5450 - accuracy: 0.7650\n",
            "Epoch 39/100\n",
            "547/547 [==============================] - 0s 590us/step - loss: 0.5450 - accuracy: 0.7650\n",
            "Epoch 40/100\n",
            "547/547 [==============================] - 0s 803us/step - loss: 0.5450 - accuracy: 0.7650\n",
            "Epoch 41/100\n",
            "547/547 [==============================] - 0s 630us/step - loss: 0.5450 - accuracy: 0.7650\n",
            "Epoch 42/100\n",
            "547/547 [==============================] - 0s 592us/step - loss: 0.5450 - accuracy: 0.7650\n",
            "Epoch 43/100\n",
            "547/547 [==============================] - 0s 602us/step - loss: 0.5450 - accuracy: 0.7650\n",
            "Epoch 44/100\n",
            "547/547 [==============================] - 0s 606us/step - loss: 0.5450 - accuracy: 0.7650\n",
            "Epoch 45/100\n",
            "547/547 [==============================] - 0s 599us/step - loss: 0.5450 - accuracy: 0.7650\n",
            "Epoch 46/100\n",
            "547/547 [==============================] - 0s 610us/step - loss: 0.5450 - accuracy: 0.7650\n",
            "Epoch 47/100\n",
            "547/547 [==============================] - 0s 581us/step - loss: 0.5450 - accuracy: 0.7650\n",
            "Epoch 48/100\n",
            "547/547 [==============================] - 0s 609us/step - loss: 0.5450 - accuracy: 0.7650\n",
            "Epoch 49/100\n",
            "547/547 [==============================] - 0s 601us/step - loss: 0.5450 - accuracy: 0.7650\n",
            "Epoch 50/100\n",
            "547/547 [==============================] - 0s 588us/step - loss: 0.5450 - accuracy: 0.7650\n",
            "Epoch 51/100\n",
            "547/547 [==============================] - 0s 603us/step - loss: 0.5450 - accuracy: 0.7650\n",
            "Epoch 52/100\n",
            "547/547 [==============================] - 0s 587us/step - loss: 0.5450 - accuracy: 0.7650\n",
            "Epoch 53/100\n",
            "547/547 [==============================] - 0s 590us/step - loss: 0.5450 - accuracy: 0.7650\n",
            "Epoch 54/100\n",
            "547/547 [==============================] - 0s 628us/step - loss: 0.5450 - accuracy: 0.7650\n",
            "Epoch 55/100\n",
            "547/547 [==============================] - 0s 692us/step - loss: 0.8101 - accuracy: 0.7649\n",
            "Epoch 56/100\n",
            "547/547 [==============================] - 0s 577us/step - loss: 0.5452 - accuracy: 0.7650\n",
            "Epoch 57/100\n",
            "547/547 [==============================] - 0s 608us/step - loss: 0.5468 - accuracy: 0.7649\n",
            "Epoch 58/100\n",
            "547/547 [==============================] - 0s 580us/step - loss: 0.5454 - accuracy: 0.7649\n",
            "Epoch 59/100\n",
            "547/547 [==============================] - 0s 619us/step - loss: 0.5454 - accuracy: 0.7649\n",
            "Epoch 60/100\n",
            "547/547 [==============================] - 0s 627us/step - loss: 0.5454 - accuracy: 0.7649\n",
            "Epoch 61/100\n",
            "547/547 [==============================] - 0s 616us/step - loss: 0.5454 - accuracy: 0.7649\n",
            "Epoch 62/100\n",
            "547/547 [==============================] - 0s 748us/step - loss: 0.5454 - accuracy: 0.7649\n",
            "Epoch 63/100\n",
            "547/547 [==============================] - 0s 612us/step - loss: 0.5454 - accuracy: 0.7649\n",
            "Epoch 64/100\n",
            "547/547 [==============================] - 0s 581us/step - loss: 0.5454 - accuracy: 0.7649\n",
            "Epoch 65/100\n",
            "547/547 [==============================] - 0s 618us/step - loss: 0.5454 - accuracy: 0.7649\n",
            "Epoch 66/100\n",
            "547/547 [==============================] - 0s 732us/step - loss: 0.5454 - accuracy: 0.7649\n",
            "Epoch 67/100\n",
            "547/547 [==============================] - 0s 627us/step - loss: 0.5454 - accuracy: 0.7649\n",
            "Epoch 68/100\n",
            "547/547 [==============================] - 0s 590us/step - loss: 0.5453 - accuracy: 0.7649\n",
            "Epoch 69/100\n",
            "547/547 [==============================] - 0s 586us/step - loss: 0.5454 - accuracy: 0.7649\n",
            "Epoch 70/100\n",
            "547/547 [==============================] - 0s 629us/step - loss: 0.5453 - accuracy: 0.7649\n",
            "Epoch 71/100\n",
            "547/547 [==============================] - 0s 601us/step - loss: 0.5454 - accuracy: 0.7649\n",
            "Epoch 72/100\n",
            "547/547 [==============================] - 0s 631us/step - loss: 0.5454 - accuracy: 0.7649\n",
            "Epoch 73/100\n",
            "547/547 [==============================] - 0s 586us/step - loss: 0.5454 - accuracy: 0.7649\n",
            "Epoch 74/100\n",
            "547/547 [==============================] - 0s 596us/step - loss: 0.5454 - accuracy: 0.7649\n",
            "Epoch 75/100\n",
            "547/547 [==============================] - 0s 590us/step - loss: 0.5453 - accuracy: 0.7649\n",
            "Epoch 76/100\n",
            "547/547 [==============================] - 0s 582us/step - loss: 0.5454 - accuracy: 0.7649\n",
            "Epoch 77/100\n",
            "547/547 [==============================] - 0s 610us/step - loss: 0.5454 - accuracy: 0.7649\n",
            "Epoch 78/100\n",
            "547/547 [==============================] - 0s 743us/step - loss: 0.5454 - accuracy: 0.7649\n",
            "Epoch 79/100\n"
          ]
        },
        {
          "name": "stdout",
          "output_type": "stream",
          "text": [
            "547/547 [==============================] - 0s 711us/step - loss: 0.5454 - accuracy: 0.7649\n",
            "Epoch 80/100\n",
            "547/547 [==============================] - 0s 652us/step - loss: 0.5454 - accuracy: 0.7649\n",
            "Epoch 81/100\n",
            "547/547 [==============================] - 0s 628us/step - loss: 0.5454 - accuracy: 0.7649\n",
            "Epoch 82/100\n",
            "547/547 [==============================] - 0s 588us/step - loss: 0.5453 - accuracy: 0.7649\n",
            "Epoch 83/100\n",
            "547/547 [==============================] - 0s 590us/step - loss: 0.5454 - accuracy: 0.7649\n",
            "Epoch 84/100\n",
            "547/547 [==============================] - 0s 628us/step - loss: 0.5454 - accuracy: 0.7649\n",
            "Epoch 85/100\n",
            "547/547 [==============================] - 0s 674us/step - loss: 0.5454 - accuracy: 0.7649\n",
            "Epoch 86/100\n",
            "547/547 [==============================] - 0s 659us/step - loss: 0.5454 - accuracy: 0.7649\n",
            "Epoch 87/100\n",
            "547/547 [==============================] - 0s 592us/step - loss: 0.5454 - accuracy: 0.7649\n",
            "Epoch 88/100\n",
            "547/547 [==============================] - 0s 578us/step - loss: 0.5454 - accuracy: 0.7649\n",
            "Epoch 89/100\n",
            "547/547 [==============================] - 0s 719us/step - loss: 0.5454 - accuracy: 0.7649\n",
            "Epoch 90/100\n",
            "547/547 [==============================] - 0s 701us/step - loss: 0.5454 - accuracy: 0.76490s - loss: 0.5442 - ac\n",
            "Epoch 91/100\n",
            "547/547 [==============================] - 0s 595us/step - loss: 0.5454 - accuracy: 0.7649\n",
            "Epoch 92/100\n",
            "547/547 [==============================] - 0s 585us/step - loss: 0.5454 - accuracy: 0.7649\n",
            "Epoch 93/100\n",
            "547/547 [==============================] - 0s 609us/step - loss: 0.5453 - accuracy: 0.7649\n",
            "Epoch 94/100\n",
            "547/547 [==============================] - 0s 608us/step - loss: 0.5454 - accuracy: 0.7649\n",
            "Epoch 95/100\n",
            "547/547 [==============================] - 0s 610us/step - loss: 0.5454 - accuracy: 0.7649\n",
            "Epoch 96/100\n",
            "547/547 [==============================] - 0s 592us/step - loss: 0.5454 - accuracy: 0.7649\n",
            "Epoch 97/100\n",
            "547/547 [==============================] - 0s 573us/step - loss: 0.5453 - accuracy: 0.7649\n",
            "Epoch 98/100\n",
            "547/547 [==============================] - 0s 590us/step - loss: 0.5454 - accuracy: 0.7649\n",
            "Epoch 99/100\n",
            "547/547 [==============================] - 0s 583us/step - loss: 0.5454 - accuracy: 0.7649\n",
            "Epoch 100/100\n",
            "547/547 [==============================] - 0s 594us/step - loss: 0.5453 - accuracy: 0.7649\n"
          ]
        }
      ],
      "source": [
        "#Fitting ANN\n",
        "modelANN=ann.fit(X_train,y_train,batch_size=32,epochs = 100)"
      ]
    },
    {
      "cell_type": "code",
      "execution_count": null,
      "metadata": {
        "id": "5kDqF1ndpPNg",
        "outputId": "0c6628d6-bf95-4053-feec-60c3ec39872e"
      },
      "outputs": [
        {
          "name": "stdout",
          "output_type": "stream",
          "text": [
            "547/547 [==============================] - 0s 515us/step - loss: 0.5453 - accuracy: 0.7649\n",
            "No Skill: ROC AUC=0.500\n",
            "ANN: ROC AUC=0.732\n",
            "Score:  [0.5453254580497742, 0.7648841738700867]\n",
            "Error Rate: 0.3448951840400696\n"
          ]
        }
      ],
      "source": [
        "#s11=model.average(l_scores)\n",
        "ann_scores=ann.evaluate(X_train,y_train)\n",
        "y_predANN=ANNmodel.predict(X_test)\n",
        "s6=np.average(ann_scores)\n",
        "error_rate_ANN=1-s6\n",
        "print('No Skill: ROC AUC=%.3f' % (ns_auc))\n",
        "print('ANN: ROC AUC=%.3f' % (CT_auc))\n",
        "print('Score: ' ,ann_scores)\n",
        "print('Error Rate:' ,error_rate_ANN)"
      ]
    },
    {
      "cell_type": "markdown",
      "metadata": {
        "id": "pgZ1Kq16pPNg"
      },
      "source": [
        "## Discriminant Analysis (DA)"
      ]
    },
    {
      "cell_type": "code",
      "execution_count": null,
      "metadata": {
        "id": "5NiyPt04pPNg",
        "outputId": "891588a4-c4e9-47c8-af95-4fd36c523e0b"
      },
      "outputs": [
        {
          "name": "stdout",
          "output_type": "stream",
          "text": [
            "Mean Accuracy: 0.797 (0.006)\n"
          ]
        }
      ],
      "source": [
        "\n",
        "# evaluate a lda model on the dataset\n",
        "from numpy import mean\n",
        "from numpy import std\n",
        "from sklearn.datasets import make_classification\n",
        "from sklearn.model_selection import cross_val_score\n",
        "from sklearn.model_selection import RepeatedStratifiedKFold\n",
        "from sklearn.discriminant_analysis import LinearDiscriminantAnalysis\n",
        "# define dataset\n",
        "X, y = make_classification(n_samples=1000, n_features=10, n_informative=10, n_redundant=0, random_state=1)\n",
        "# define model\n",
        "DAmodel = LinearDiscriminantAnalysis()\n",
        "DAmodel.fit(X_train,y_train)\n",
        "y_predDA=DAmodel.predict(X_test)\n",
        "# define model evaluation method\n",
        "cv = RepeatedStratifiedKFold(n_splits=10, n_repeats=3, random_state=1)\n",
        "# evaluate model\n",
        "scores = cross_val_score(DAmodel, X_train, y_train, scoring='accuracy', cv=cv, n_jobs=-1)\n",
        "# summarize result\n",
        "print('Mean Accuracy: %.3f (%.3f)' % (mean(scores), std(scores)))"
      ]
    },
    {
      "cell_type": "code",
      "execution_count": null,
      "metadata": {
        "id": "MithA8thpPNg",
        "outputId": "5f88cb29-8eaf-420e-9ae5-f65a975f0aea"
      },
      "outputs": [
        {
          "name": "stdout",
          "output_type": "stream",
          "text": [
            "No Skill: ROC AUC=0.500\n",
            "DA: ROC AUC=0.726\n"
          ]
        },
        {
          "data": {
            "image/png": "[encoded data removed]",
            "text/plain": [
              "<Figure size 432x288 with 1 Axes>"
            ]
          },
          "metadata": {
            "needs_background": "light"
          },
          "output_type": "display_data"
        }
      ],
      "source": [
        "ns_probs = [0 for _ in range(len(y_test))]\n",
        "# fit a model\n",
        "#model = LinearDiscriminantAnalysis()\n",
        "#model.fit(X_train, y_train)\n",
        "# predict probabilities\n",
        "DA_probs = DAmodel.predict_proba(X_test)\n",
        "# keep probabilities for the positive outcome only\n",
        "DA_probs = DA_probs[:, 1]\n",
        "# calculate scores\n",
        "ns_auc = roc_auc_score(y_test, ns_probs)\n",
        "DA_auc = roc_auc_score(y_test, DA_probs)\n",
        "# summarize scores\n",
        "print('No Skill: ROC AUC=%.3f' % (ns_auc))\n",
        "print('DA: ROC AUC=%.3f' % (DA_auc))\n",
        "# calculate roc curves\n",
        "ns_fpr, ns_tpr, _ = roc_curve(y_test, ns_probs)\n",
        "DA_fpr, DA_tpr, _ = roc_curve(y_test, lr_probs)\n",
        "# plot the roc curve for the model\n",
        "pyplot.plot(ns_fpr, ns_tpr, color=\"red\" ,linestyle='--', label='No Skill')\n",
        "pyplot.plot(DA_fpr, DA_tpr, color=\"green\", marker='.', label='DA')\n",
        "# axis labels\n",
        "pyplot.xlabel('False Positive Rate')\n",
        "pyplot.ylabel('True Positive Rate')\n",
        "# show the legend\n",
        "pyplot.legend()\n",
        "# show the plot\n",
        "pyplot.show()"
      ]
    },
    {
      "cell_type": "markdown",
      "metadata": {
        "id": "iO3VUz5mpPNk"
      },
      "source": [
        "## V. Evaluation\n",
        "###### Vérifier le(s) modèle(s) ou les connaissances obtenues afin de s’assurer qu’ils répondent aux objectifs formulés au début du processus."
      ]
    },
    {
      "cell_type": "code",
      "execution_count": null,
      "metadata": {
        "id": "H78EUdmZpPNk"
      },
      "outputs": [],
      "source": [
        "##les scores\n",
        "LRscore=accuracy_score(y_test, y_predLR)\n",
        "DTscore=accuracy_score(y_test, y_predDT)\n",
        "SVMscore=accuracy_score(y_test, y_predSVM)\n",
        "RFscore=accuracy_score(y_test, y_predRF)\n",
        "KNNscore=accuracy_score(y_test, y_predKNN)\n",
        "NBscore=accuracy_score(y_test, y_predNB)\n",
        "CTscore=accuracy_score(y_test, y_predCT)\n",
        "ANNscore=accuracy_score(y_test, y_predANN)\n",
        "DAscore=accuracy_score(y_test,y_predDA)"
      ]
    },
    {
      "cell_type": "code",
      "execution_count": null,
      "metadata": {
        "id": "2Zm1_TjBpPNk",
        "outputId": "d97c6a3a-8f23-49a8-b744-ae7553dbc764"
      },
      "outputs": [
        {
          "name": "stdout",
          "output_type": "stream",
          "text": [
            "\n",
            " clasification report for Classification Logistic Regression:\n",
            "               precision    recall  f1-score   support\n",
            "\n",
            "           0       0.77      1.00      0.87      5768\n",
            "           1       1.00      0.00      0.00      1726\n",
            "\n",
            "    accuracy                           0.77      7494\n",
            "   macro avg       0.88      0.50      0.44      7494\n",
            "weighted avg       0.82      0.77      0.67      7494\n",
            "\n",
            "\n",
            " confussion matrix:\n",
            " [[5768    0]\n",
            " [1725    1]]\n"
          ]
        }
      ],
      "source": [
        "from sklearn.metrics import f1_score, accuracy_score,recall_score, precision_score, classification_report, confusion_matrix\n",
        "#print ('F1 score:', f1_score(y_test,y_predKNN))\n",
        "#print ('Recall:', recall_score(y_test,y_hat_test))\n",
        "#print ('Precision:', precision_score(y_test,y_hat_test))\n",
        "print ('\\n clasification report for Classification Logistic Regression:\\n', classification_report(y_test,y_predLR))\n",
        "print ('\\n confussion matrix:\\n',confusion_matrix(y_test,y_predLR))"
      ]
    },
    {
      "cell_type": "code",
      "execution_count": null,
      "metadata": {
        "id": "VXPJj9GCpPNk",
        "outputId": "8df650b5-c1dc-4c8a-b5d5-2007df7b35c4"
      },
      "outputs": [
        {
          "name": "stdout",
          "output_type": "stream",
          "text": [
            "\n",
            " clasification report for Classification Descision Tree:\n",
            "               precision    recall  f1-score   support\n",
            "\n",
            "           0       0.83      0.80      0.81      5768\n",
            "           1       0.40      0.43      0.42      1726\n",
            "\n",
            "    accuracy                           0.72      7494\n",
            "   macro avg       0.61      0.62      0.62      7494\n",
            "weighted avg       0.73      0.72      0.72      7494\n",
            "\n",
            "\n",
            " confussion matrix:\n",
            " [[4636 1132]\n",
            " [ 976  750]]\n"
          ]
        }
      ],
      "source": [
        "print ('\\n clasification report for Classification Descision Tree:\\n', classification_report(y_test,y_predDT))\n",
        "print ('\\n confussion matrix:\\n',confusion_matrix(y_test,y_predDT))"
      ]
    },
    {
      "cell_type": "code",
      "execution_count": null,
      "metadata": {
        "id": "ywoVzK1JpPNl",
        "outputId": "312d3fa9-5ca0-49af-8be5-d6c852327111"
      },
      "outputs": [
        {
          "name": "stdout",
          "output_type": "stream",
          "text": [
            "\n",
            " clasification report for SVM:\n",
            "               precision    recall  f1-score   support\n",
            "\n",
            "           0       0.77      1.00      0.87      5768\n",
            "           1       0.00      0.00      0.00      1726\n",
            "\n",
            "    accuracy                           0.77      7494\n",
            "   macro avg       0.38      0.50      0.43      7494\n",
            "weighted avg       0.59      0.77      0.67      7494\n",
            "\n",
            "\n",
            " confussion matrix:\n",
            " [[5768    0]\n",
            " [1726    0]]\n"
          ]
        },
        {
          "name": "stderr",
          "output_type": "stream",
          "text": [
            "C:\\Users\\miral\\anaconda3\\lib\\site-packages\\sklearn\\metrics\\_classification.py:1248: UndefinedMetricWarning: Precision and F-score are ill-defined and being set to 0.0 in labels with no predicted samples. Use `zero_division` parameter to control this behavior.\n",
            "  _warn_prf(average, modifier, msg_start, len(result))\n",
            "C:\\Users\\miral\\anaconda3\\lib\\site-packages\\sklearn\\metrics\\_classification.py:1248: UndefinedMetricWarning: Precision and F-score are ill-defined and being set to 0.0 in labels with no predicted samples. Use `zero_division` parameter to control this behavior.\n",
            "  _warn_prf(average, modifier, msg_start, len(result))\n",
            "C:\\Users\\miral\\anaconda3\\lib\\site-packages\\sklearn\\metrics\\_classification.py:1248: UndefinedMetricWarning: Precision and F-score are ill-defined and being set to 0.0 in labels with no predicted samples. Use `zero_division` parameter to control this behavior.\n",
            "  _warn_prf(average, modifier, msg_start, len(result))\n"
          ]
        }
      ],
      "source": [
        "print ('\\n clasification report for SVM:\\n', classification_report(y_test,y_predSVM))\n",
        "print ('\\n confussion matrix:\\n',confusion_matrix(y_test,y_predSVM))"
      ]
    },
    {
      "cell_type": "code",
      "execution_count": null,
      "metadata": {
        "id": "dnWeg0FjpPNl",
        "outputId": "d35d6516-d8be-461e-8229-11b4f911ab61"
      },
      "outputs": [
        {
          "name": "stdout",
          "output_type": "stream",
          "text": [
            "\n",
            " clasification report for Random Forest:\n",
            "               precision    recall  f1-score   support\n",
            "\n",
            "           0       0.84      0.94      0.89      5768\n",
            "           1       0.66      0.39      0.49      1726\n",
            "\n",
            "    accuracy                           0.81      7494\n",
            "   macro avg       0.75      0.67      0.69      7494\n",
            "weighted avg       0.80      0.81      0.79      7494\n",
            "\n",
            "\n",
            " confussion matrix:\n",
            " [[5410  358]\n",
            " [1046  680]]\n"
          ]
        }
      ],
      "source": [
        "print ('\\n clasification report for Random Forest:\\n', classification_report(y_test,y_predRF))\n",
        "print ('\\n confussion matrix:\\n',confusion_matrix(y_test,y_predRF))"
      ]
    },
    {
      "cell_type": "code",
      "execution_count": null,
      "metadata": {
        "id": "Q9eGZF1wpPNl",
        "outputId": "f7a480de-c775-4c9c-ed95-7e8ba6d247c5"
      },
      "outputs": [
        {
          "name": "stdout",
          "output_type": "stream",
          "text": [
            "\n",
            " clasification report for KNN:\n",
            "               precision    recall  f1-score   support\n",
            "\n",
            "           0       0.79      0.97      0.87      5768\n",
            "           1       0.55      0.11      0.19      1726\n",
            "\n",
            "    accuracy                           0.77      7494\n",
            "   macro avg       0.67      0.54      0.53      7494\n",
            "weighted avg       0.73      0.77      0.71      7494\n",
            "\n",
            "\n",
            " confussion matrix:\n",
            " [[5607  161]\n",
            " [1530  196]]\n"
          ]
        }
      ],
      "source": [
        "print ('\\n clasification report for KNN:\\n', classification_report(y_test,y_predKNN))\n",
        "print ('\\n confussion matrix:\\n',confusion_matrix(y_test,y_predKNN))"
      ]
    },
    {
      "cell_type": "code",
      "execution_count": null,
      "metadata": {
        "id": "3VIjENmepPNl",
        "outputId": "45922456-14ba-48e5-b50c-d3c33abba3f1"
      },
      "outputs": [
        {
          "name": "stdout",
          "output_type": "stream",
          "text": [
            "\n",
            " clasification report for NB:\n",
            "               precision    recall  f1-score   support\n",
            "\n",
            "           0       0.87      0.28      0.43      5768\n",
            "           1       0.27      0.87      0.41      1726\n",
            "\n",
            "    accuracy                           0.42      7494\n",
            "   macro avg       0.57      0.57      0.42      7494\n",
            "weighted avg       0.73      0.42      0.42      7494\n",
            "\n",
            "\n",
            " confussion matrix:\n",
            " [[1630 4138]\n",
            " [ 233 1493]]\n"
          ]
        }
      ],
      "source": [
        "print ('\\n clasification report for NB:\\n', classification_report(y_test,y_predNB))\n",
        "print ('\\n confussion matrix:\\n',confusion_matrix(y_test,y_predNB))"
      ]
    },
    {
      "cell_type": "code",
      "execution_count": null,
      "metadata": {
        "id": "1epVwcejpPNl",
        "outputId": "99d3360f-5657-4e08-d055-195b9206f429"
      },
      "outputs": [
        {
          "name": "stdout",
          "output_type": "stream",
          "text": [
            "\n",
            " clasification report for Classification Trees:\n",
            "               precision    recall  f1-score   support\n",
            "\n",
            "           0       0.84      0.94      0.89      5768\n",
            "           1       0.68      0.39      0.50      1726\n",
            "\n",
            "    accuracy                           0.82      7494\n",
            "   macro avg       0.76      0.67      0.69      7494\n",
            "weighted avg       0.80      0.82      0.80      7494\n",
            "\n",
            "\n",
            " confussion matrix:\n",
            " [[5448  320]\n",
            " [1053  673]]\n"
          ]
        }
      ],
      "source": [
        "print ('\\n clasification report for Classification Trees:\\n', classification_report(y_test,y_predCT))\n",
        "print ('\\n confussion matrix:\\n',confusion_matrix(y_test,y_predCT))"
      ]
    },
    {
      "cell_type": "code",
      "execution_count": null,
      "metadata": {
        "id": "q5MT9kj_pPNl",
        "outputId": "7ce0fc63-4ae3-4174-a9ac-aae4a6d1af64"
      },
      "outputs": [
        {
          "name": "stdout",
          "output_type": "stream",
          "text": [
            "\n",
            " clasification report for ANN:\n",
            "               precision    recall  f1-score   support\n",
            "\n",
            "           0       0.81      0.85      0.83      5768\n",
            "           1       0.39      0.32      0.35      1726\n",
            "\n",
            "    accuracy                           0.73      7494\n",
            "   macro avg       0.60      0.58      0.59      7494\n",
            "weighted avg       0.71      0.73      0.72      7494\n",
            "\n",
            "\n",
            " confussion matrix:\n",
            " [[4910  858]\n",
            " [1177  549]]\n"
          ]
        }
      ],
      "source": [
        "print ('\\n clasification report for ANN:\\n', classification_report(y_test,y_predANN))\n",
        "print ('\\n confussion matrix:\\n',confusion_matrix(y_test,y_predANN))"
      ]
    },
    {
      "cell_type": "code",
      "execution_count": null,
      "metadata": {
        "id": "J_sRIhiIpPNm",
        "outputId": "cb3a2885-1cc4-40e8-8066-41786917a3ba"
      },
      "outputs": [
        {
          "name": "stdout",
          "output_type": "stream",
          "text": [
            "\n",
            " clasification report for Discriminant Analysis:\n",
            "               precision    recall  f1-score   support\n",
            "\n",
            "           0       0.81      0.96      0.88      5768\n",
            "           1       0.68      0.27      0.38      1726\n",
            "\n",
            "    accuracy                           0.80      7494\n",
            "   macro avg       0.75      0.61      0.63      7494\n",
            "weighted avg       0.78      0.80      0.77      7494\n",
            "\n",
            "\n",
            " confussion matrix:\n",
            " [[5552  216]\n",
            " [1267  459]]\n"
          ]
        }
      ],
      "source": [
        "print ('\\n clasification report for Discriminant Analysis:\\n', classification_report(y_test,y_predDA))\n",
        "print ('\\n confussion matrix:\\n',confusion_matrix(y_test,y_predDA))"
      ]
    },
    {
      "cell_type": "code",
      "execution_count": null,
      "metadata": {
        "id": "7yD3VxmXpPNm",
        "outputId": "e7255fe9-3448-4035-9cd3-3de3360d35b7"
      },
      "outputs": [
        {
          "data": {
            "text/html": [
              "<div>\n",
              "<style scoped>\n",
              "    .dataframe tbody tr th:only-of-type {\n",
              "        vertical-align: middle;\n",
              "    }\n",
              "\n",
              "    .dataframe tbody tr th {\n",
              "        vertical-align: top;\n",
              "    }\n",
              "\n",
              "    .dataframe thead th {\n",
              "        text-align: right;\n",
              "    }\n",
              "</style>\n",
              "<table border=\"1\" class=\"dataframe\">\n",
              "  <thead>\n",
              "    <tr style=\"text-align: right;\">\n",
              "      <th></th>\n",
              "      <th>Model</th>\n",
              "      <th>Accuracy</th>\n",
              "    </tr>\n",
              "  </thead>\n",
              "  <tbody>\n",
              "    <tr>\n",
              "      <th>5</th>\n",
              "      <td>Classification trees (CTs)</td>\n",
              "      <td>0.816787</td>\n",
              "    </tr>\n",
              "    <tr>\n",
              "      <th>7</th>\n",
              "      <td>Discriminat Analysis</td>\n",
              "      <td>0.802108</td>\n",
              "    </tr>\n",
              "    <tr>\n",
              "      <th>3</th>\n",
              "      <td>KNN</td>\n",
              "      <td>0.774353</td>\n",
              "    </tr>\n",
              "    <tr>\n",
              "      <th>0</th>\n",
              "      <td>Logistic regression</td>\n",
              "      <td>0.769816</td>\n",
              "    </tr>\n",
              "    <tr>\n",
              "      <th>2</th>\n",
              "      <td>Support vector machine (SVM)</td>\n",
              "      <td>0.769682</td>\n",
              "    </tr>\n",
              "    <tr>\n",
              "      <th>6</th>\n",
              "      <td>Artificial Neural Networks</td>\n",
              "      <td>0.728449</td>\n",
              "    </tr>\n",
              "    <tr>\n",
              "      <th>1</th>\n",
              "      <td>Decision Tree</td>\n",
              "      <td>0.718708</td>\n",
              "    </tr>\n",
              "    <tr>\n",
              "      <th>4</th>\n",
              "      <td>Naïve Bayesian classifier (NB)</td>\n",
              "      <td>0.416733</td>\n",
              "    </tr>\n",
              "  </tbody>\n",
              "</table>\n",
              "</div>"
            ],
            "text/plain": [
              "                            Model  Accuracy\n",
              "5      Classification trees (CTs)  0.816787\n",
              "7            Discriminat Analysis  0.802108\n",
              "3                             KNN  0.774353\n",
              "0            Logistic regression   0.769816\n",
              "2    Support vector machine (SVM)  0.769682\n",
              "6      Artificial Neural Networks  0.728449\n",
              "1                   Decision Tree  0.718708\n",
              "4  Naïve Bayesian classifier (NB)  0.416733"
            ]
          },
          "execution_count": 433,
          "metadata": {},
          "output_type": "execute_result"
        }
      ],
      "source": [
        "# On va afficher un tableau qui ordonne les modèles du plus performant au moins performant suivant le score\n",
        "\n",
        "models = pd.DataFrame({\n",
        "    'Model': ['Logistic regression ','Decision Tree',\n",
        "              'Support vector machine (SVM)','KNN','Naïve Bayesian classifier (NB)','Classification trees (CTs)','Artificial Neural Networks','Discriminat Analysis'],\n",
        "    'Accuracy': [LRscore,DTscore,SVMscore,KNNscore,NBscore,CTscore,ANNscore,DAscore]})\n",
        "models.sort_values(by=\"Accuracy\",ascending=False)"
      ]
    }
  ],
  "metadata": {
    "kernelspec": {
      "display_name": "Python 3 (ipykernel)",
      "language": "python",
      "name": "python3"
    },
    "language_info": {
      "codemirror_mode": {
        "name": "ipython",
        "version": 3
      },
      "file_extension": ".py",
      "mimetype": "text/x-python",
      "name": "python",
      "nbconvert_exporter": "python",
      "pygments_lexer": "ipython3",
      "version": "3.9.7"
    },
    "colab": {
      "provenance": [],
      "collapsed_sections": [
        "QcFyyI55pPNP",
        "ikwn6DXUpPNQ",
        "cysbvKGhpPNR",
        "80m2lG9apPNS",
        "cujZo37vpPNS",
        "k28OEPkNpPNS",
        "i9CYne84pPNT",
        "xmd_WelepPNT"
      ]
    }
  },
  "nbformat": 4,
  "nbformat_minor": 0
}